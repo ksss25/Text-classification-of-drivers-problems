{
  "nbformat": 4,
  "nbformat_minor": 0,
  "metadata": {
    "colab": {
      "provenance": [],
      "gpuType": "T4"
    },
    "kernelspec": {
      "name": "python3",
      "display_name": "Python 3"
    },
    "language_info": {
      "name": "python"
    },
    "accelerator": "GPU"
  },
  "cells": [
    {
      "cell_type": "markdown",
      "source": [
        "# Загрузка данных"
      ],
      "metadata": {
        "id": "rcQmJ85AvlXO"
      }
    },
    {
      "cell_type": "markdown",
      "source": [
        "Данные можно найти по [ссылке](https://drive.google.com/drive/folders/1GiL4FCOYVBB61wcCjN_qTHY18wkOMrRk?usp=sharing)"
      ],
      "metadata": {
        "id": "0n0Z8xyUxqo7"
      }
    },
    {
      "cell_type": "code",
      "source": [
        "import pandas as pd\n",
        "import csv\n",
        "import numpy as np"
      ],
      "metadata": {
        "id": "zAdQx6LxLhsU"
      },
      "execution_count": null,
      "outputs": []
    },
    {
      "cell_type": "code",
      "source": [
        "from google.colab import drive\n",
        "drive.mount(\"/content/drive\")"
      ],
      "metadata": {
        "id": "Z1UP9Ysos0kG",
        "colab": {
          "base_uri": "https://localhost:8080/"
        },
        "outputId": "9ab19c03-5be0-4215-d6f4-4846cd0bc82e"
      },
      "execution_count": null,
      "outputs": [
        {
          "output_type": "stream",
          "name": "stdout",
          "text": [
            "Mounted at /content/drive\n"
          ]
        }
      ]
    },
    {
      "cell_type": "code",
      "source": [
        "df = pd.read_csv(\"/content/drive/MyDrive/data_drive2/drive2_BMW.csv\", delimiter=';', on_bad_lines='skip', quotechar=\"'\", engine='python')"
      ],
      "metadata": {
        "id": "RkOQ5sJywd9y"
      },
      "execution_count": null,
      "outputs": []
    },
    {
      "cell_type": "code",
      "source": [
        "rows_to_join = []\n",
        "\n",
        "to_add = 0\n",
        "flag = False\n",
        "for i in range(len(df)):\n",
        "    if pd.isna(df.at[i, \"Время публикации\"]) and pd.isna(df.at[i, \"Описание\"]):\n",
        "      if not flag:\n",
        "        to_add = i - 1\n",
        "        flag = True\n",
        "      rows_to_join.append(df.at[i, \"Модель автомобиля\"])\n",
        "      df.drop(i, inplace=True)\n",
        "    else:\n",
        "      if rows_to_join:\n",
        "        if pd.isna(df.at[to_add, \"Описание\"]):\n",
        "          df.at[to_add, \"Описание\"] = \"\"\n",
        "        df.at[to_add, \"Описание\"] += \" \" + \" \".join(rows_to_join)\n",
        "        rows_to_join = []\n",
        "        flag = False\n",
        "\n",
        "df.reset_index(drop=True, inplace=True)"
      ],
      "metadata": {
        "id": "I9mUom36QCJO"
      },
      "execution_count": null,
      "outputs": []
    },
    {
      "cell_type": "code",
      "source": [
        "df.head(20)"
      ],
      "metadata": {
        "colab": {
          "base_uri": "https://localhost:8080/",
          "height": 676
        },
        "id": "npYXl1EF10Lu",
        "outputId": "1589a8c1-f4f3-4951-9bb1-4c9707fdd8ee"
      },
      "execution_count": null,
      "outputs": [
        {
          "output_type": "execute_result",
          "data": {
            "text/plain": [
              "                        Модель автомобиля Время публикации  \\\n",
              "0                                  BMW X1       2025-01-17   \n",
              "1    BMW 3 series AventurineRot «Вишенка»       2025-01-17   \n",
              "2                              BMW X5 40d       2025-01-17   \n",
              "3               BMW 5 series Experimental       2025-01-17   \n",
              "4   BMW 5 series LifestyleEdition 3.0d MT       2025-01-17   \n",
              "5       BMW 3 series Красная машинка жены       2025-01-17   \n",
              "6                        BMW X5 RHINO 40d       2025-01-17   \n",
              "7                                  BMW X5       2025-01-17   \n",
              "8          BMW 7 series 🇩🇪 tiefe Nacht 🇩🇪       2025-01-17   \n",
              "9                      BMW 7 series Баржа       2025-01-17   \n",
              "10             BMW 3 series Черная молния       2025-01-17   \n",
              "11            BMW X5 E70 3.0d m57 235л.с.       2025-01-17   \n",
              "12                     BMW 5 series Stela       2025-01-17   \n",
              "13                      BMW X5 Black 600+       2025-01-17   \n",
              "14                    BMW 7 series Лялька       2025-01-17   \n",
              "15                     BMW 3 series Bumer       2025-01-17   \n",
              "16                    BMW 3 series Фрэнки       2025-01-17   \n",
              "17                    BMW 7 series Лялька       2025-01-17   \n",
              "18                 BMW 1 series 🄽🄾🅂🄵🄴🅁🄰🅃🅄       2025-01-17   \n",
              "19                           BMW 3 series       2025-01-17   \n",
              "\n",
              "                                             Описание  \n",
              "0   Добрый день. Листал как то Яндекс маркет и нат...  \n",
              "1   \"Так, ну я, в общем, всего месяц не думал о ма...  \n",
              "2       Пришла посылка, пока думаем, что с ней делать  \n",
              "3   \"Нашел человека который сделает pappel natur П...  \n",
              "4   \"Народ ✌️ всем привет, с прошедшими всех празд...  \n",
              "5   \"Продолжаю приваривать морду, много мелочей вы...  \n",
              "6   \"Всем привет ! Заранее хочу поблагодарить, кто...  \n",
              "7   \"Господа, пара вопросов: Что за синий разьем в...  \n",
              "8   \"Всем привет👋 Запись больше для себя и истории...  \n",
              "9   \"Бумер-тормоз все еще не ездит. Первая часть з...  \n",
              "10  \"Быстрый вопросик) снял коробку для замены выж...  \n",
              "11  \"Всем привет 🤝 Дело было вечером, делать было ...  \n",
              "12  \"Всем привет! Езжу я постоянно с музыкой, но п...  \n",
              "13  \"В общем месяц Х5 простоял на продаже. Как ито...  \n",
              "14  \"По совету так сказать бывалых посоветовали ли...  \n",
              "15  Может кто знает мужики, дизелек капризничает.Н...  \n",
              "16                                                NaN  \n",
              "17  \"Очень бесило что кнопка открывания багажника ...  \n",
              "18  \"✋🙂 Решил рассказать в принципе итак об очевид...  \n",
              "19  Всем салют, переодически после отключения стаб...  "
            ],
            "text/html": [
              "\n",
              "  <div id=\"df-382d4d53-44c7-486d-9986-09154f4e2aff\" class=\"colab-df-container\">\n",
              "    <div>\n",
              "<style scoped>\n",
              "    .dataframe tbody tr th:only-of-type {\n",
              "        vertical-align: middle;\n",
              "    }\n",
              "\n",
              "    .dataframe tbody tr th {\n",
              "        vertical-align: top;\n",
              "    }\n",
              "\n",
              "    .dataframe thead th {\n",
              "        text-align: right;\n",
              "    }\n",
              "</style>\n",
              "<table border=\"1\" class=\"dataframe\">\n",
              "  <thead>\n",
              "    <tr style=\"text-align: right;\">\n",
              "      <th></th>\n",
              "      <th>Модель автомобиля</th>\n",
              "      <th>Время публикации</th>\n",
              "      <th>Описание</th>\n",
              "    </tr>\n",
              "  </thead>\n",
              "  <tbody>\n",
              "    <tr>\n",
              "      <th>0</th>\n",
              "      <td>BMW X1</td>\n",
              "      <td>2025-01-17</td>\n",
              "      <td>Добрый день. Листал как то Яндекс маркет и нат...</td>\n",
              "    </tr>\n",
              "    <tr>\n",
              "      <th>1</th>\n",
              "      <td>BMW 3 series AventurineRot «Вишенка»</td>\n",
              "      <td>2025-01-17</td>\n",
              "      <td>\"Так, ну я, в общем, всего месяц не думал о ма...</td>\n",
              "    </tr>\n",
              "    <tr>\n",
              "      <th>2</th>\n",
              "      <td>BMW X5 40d</td>\n",
              "      <td>2025-01-17</td>\n",
              "      <td>Пришла посылка, пока думаем, что с ней делать</td>\n",
              "    </tr>\n",
              "    <tr>\n",
              "      <th>3</th>\n",
              "      <td>BMW 5 series Experimental</td>\n",
              "      <td>2025-01-17</td>\n",
              "      <td>\"Нашел человека который сделает pappel natur П...</td>\n",
              "    </tr>\n",
              "    <tr>\n",
              "      <th>4</th>\n",
              "      <td>BMW 5 series LifestyleEdition 3.0d MT</td>\n",
              "      <td>2025-01-17</td>\n",
              "      <td>\"Народ ✌️ всем привет, с прошедшими всех празд...</td>\n",
              "    </tr>\n",
              "    <tr>\n",
              "      <th>5</th>\n",
              "      <td>BMW 3 series Красная машинка жены</td>\n",
              "      <td>2025-01-17</td>\n",
              "      <td>\"Продолжаю приваривать морду, много мелочей вы...</td>\n",
              "    </tr>\n",
              "    <tr>\n",
              "      <th>6</th>\n",
              "      <td>BMW X5 RHINO 40d</td>\n",
              "      <td>2025-01-17</td>\n",
              "      <td>\"Всем привет ! Заранее хочу поблагодарить, кто...</td>\n",
              "    </tr>\n",
              "    <tr>\n",
              "      <th>7</th>\n",
              "      <td>BMW X5</td>\n",
              "      <td>2025-01-17</td>\n",
              "      <td>\"Господа, пара вопросов: Что за синий разьем в...</td>\n",
              "    </tr>\n",
              "    <tr>\n",
              "      <th>8</th>\n",
              "      <td>BMW 7 series 🇩🇪 tiefe Nacht 🇩🇪</td>\n",
              "      <td>2025-01-17</td>\n",
              "      <td>\"Всем привет👋 Запись больше для себя и истории...</td>\n",
              "    </tr>\n",
              "    <tr>\n",
              "      <th>9</th>\n",
              "      <td>BMW 7 series Баржа</td>\n",
              "      <td>2025-01-17</td>\n",
              "      <td>\"Бумер-тормоз все еще не ездит. Первая часть з...</td>\n",
              "    </tr>\n",
              "    <tr>\n",
              "      <th>10</th>\n",
              "      <td>BMW 3 series Черная молния</td>\n",
              "      <td>2025-01-17</td>\n",
              "      <td>\"Быстрый вопросик) снял коробку для замены выж...</td>\n",
              "    </tr>\n",
              "    <tr>\n",
              "      <th>11</th>\n",
              "      <td>BMW X5 E70 3.0d m57 235л.с.</td>\n",
              "      <td>2025-01-17</td>\n",
              "      <td>\"Всем привет 🤝 Дело было вечером, делать было ...</td>\n",
              "    </tr>\n",
              "    <tr>\n",
              "      <th>12</th>\n",
              "      <td>BMW 5 series Stela</td>\n",
              "      <td>2025-01-17</td>\n",
              "      <td>\"Всем привет! Езжу я постоянно с музыкой, но п...</td>\n",
              "    </tr>\n",
              "    <tr>\n",
              "      <th>13</th>\n",
              "      <td>BMW X5 Black 600+</td>\n",
              "      <td>2025-01-17</td>\n",
              "      <td>\"В общем месяц Х5 простоял на продаже. Как ито...</td>\n",
              "    </tr>\n",
              "    <tr>\n",
              "      <th>14</th>\n",
              "      <td>BMW 7 series Лялька</td>\n",
              "      <td>2025-01-17</td>\n",
              "      <td>\"По совету так сказать бывалых посоветовали ли...</td>\n",
              "    </tr>\n",
              "    <tr>\n",
              "      <th>15</th>\n",
              "      <td>BMW 3 series Bumer</td>\n",
              "      <td>2025-01-17</td>\n",
              "      <td>Может кто знает мужики, дизелек капризничает.Н...</td>\n",
              "    </tr>\n",
              "    <tr>\n",
              "      <th>16</th>\n",
              "      <td>BMW 3 series Фрэнки</td>\n",
              "      <td>2025-01-17</td>\n",
              "      <td>NaN</td>\n",
              "    </tr>\n",
              "    <tr>\n",
              "      <th>17</th>\n",
              "      <td>BMW 7 series Лялька</td>\n",
              "      <td>2025-01-17</td>\n",
              "      <td>\"Очень бесило что кнопка открывания багажника ...</td>\n",
              "    </tr>\n",
              "    <tr>\n",
              "      <th>18</th>\n",
              "      <td>BMW 1 series 🄽🄾🅂🄵🄴🅁🄰🅃🅄</td>\n",
              "      <td>2025-01-17</td>\n",
              "      <td>\"✋🙂 Решил рассказать в принципе итак об очевид...</td>\n",
              "    </tr>\n",
              "    <tr>\n",
              "      <th>19</th>\n",
              "      <td>BMW 3 series</td>\n",
              "      <td>2025-01-17</td>\n",
              "      <td>Всем салют, переодически после отключения стаб...</td>\n",
              "    </tr>\n",
              "  </tbody>\n",
              "</table>\n",
              "</div>\n",
              "    <div class=\"colab-df-buttons\">\n",
              "\n",
              "  <div class=\"colab-df-container\">\n",
              "    <button class=\"colab-df-convert\" onclick=\"convertToInteractive('df-382d4d53-44c7-486d-9986-09154f4e2aff')\"\n",
              "            title=\"Convert this dataframe to an interactive table.\"\n",
              "            style=\"display:none;\">\n",
              "\n",
              "  <svg xmlns=\"http://www.w3.org/2000/svg\" height=\"24px\" viewBox=\"0 -960 960 960\">\n",
              "    <path d=\"M120-120v-720h720v720H120Zm60-500h600v-160H180v160Zm220 220h160v-160H400v160Zm0 220h160v-160H400v160ZM180-400h160v-160H180v160Zm440 0h160v-160H620v160ZM180-180h160v-160H180v160Zm440 0h160v-160H620v160Z\"/>\n",
              "  </svg>\n",
              "    </button>\n",
              "\n",
              "  <style>\n",
              "    .colab-df-container {\n",
              "      display:flex;\n",
              "      gap: 12px;\n",
              "    }\n",
              "\n",
              "    .colab-df-convert {\n",
              "      background-color: #E8F0FE;\n",
              "      border: none;\n",
              "      border-radius: 50%;\n",
              "      cursor: pointer;\n",
              "      display: none;\n",
              "      fill: #1967D2;\n",
              "      height: 32px;\n",
              "      padding: 0 0 0 0;\n",
              "      width: 32px;\n",
              "    }\n",
              "\n",
              "    .colab-df-convert:hover {\n",
              "      background-color: #E2EBFA;\n",
              "      box-shadow: 0px 1px 2px rgba(60, 64, 67, 0.3), 0px 1px 3px 1px rgba(60, 64, 67, 0.15);\n",
              "      fill: #174EA6;\n",
              "    }\n",
              "\n",
              "    .colab-df-buttons div {\n",
              "      margin-bottom: 4px;\n",
              "    }\n",
              "\n",
              "    [theme=dark] .colab-df-convert {\n",
              "      background-color: #3B4455;\n",
              "      fill: #D2E3FC;\n",
              "    }\n",
              "\n",
              "    [theme=dark] .colab-df-convert:hover {\n",
              "      background-color: #434B5C;\n",
              "      box-shadow: 0px 1px 3px 1px rgba(0, 0, 0, 0.15);\n",
              "      filter: drop-shadow(0px 1px 2px rgba(0, 0, 0, 0.3));\n",
              "      fill: #FFFFFF;\n",
              "    }\n",
              "  </style>\n",
              "\n",
              "    <script>\n",
              "      const buttonEl =\n",
              "        document.querySelector('#df-382d4d53-44c7-486d-9986-09154f4e2aff button.colab-df-convert');\n",
              "      buttonEl.style.display =\n",
              "        google.colab.kernel.accessAllowed ? 'block' : 'none';\n",
              "\n",
              "      async function convertToInteractive(key) {\n",
              "        const element = document.querySelector('#df-382d4d53-44c7-486d-9986-09154f4e2aff');\n",
              "        const dataTable =\n",
              "          await google.colab.kernel.invokeFunction('convertToInteractive',\n",
              "                                                    [key], {});\n",
              "        if (!dataTable) return;\n",
              "\n",
              "        const docLinkHtml = 'Like what you see? Visit the ' +\n",
              "          '<a target=\"_blank\" href=https://colab.research.google.com/notebooks/data_table.ipynb>data table notebook</a>'\n",
              "          + ' to learn more about interactive tables.';\n",
              "        element.innerHTML = '';\n",
              "        dataTable['output_type'] = 'display_data';\n",
              "        await google.colab.output.renderOutput(dataTable, element);\n",
              "        const docLink = document.createElement('div');\n",
              "        docLink.innerHTML = docLinkHtml;\n",
              "        element.appendChild(docLink);\n",
              "      }\n",
              "    </script>\n",
              "  </div>\n",
              "\n",
              "\n",
              "<div id=\"df-280165dd-0ea3-43a7-8ae5-785dcb8f8f82\">\n",
              "  <button class=\"colab-df-quickchart\" onclick=\"quickchart('df-280165dd-0ea3-43a7-8ae5-785dcb8f8f82')\"\n",
              "            title=\"Suggest charts\"\n",
              "            style=\"display:none;\">\n",
              "\n",
              "<svg xmlns=\"http://www.w3.org/2000/svg\" height=\"24px\"viewBox=\"0 0 24 24\"\n",
              "     width=\"24px\">\n",
              "    <g>\n",
              "        <path d=\"M19 3H5c-1.1 0-2 .9-2 2v14c0 1.1.9 2 2 2h14c1.1 0 2-.9 2-2V5c0-1.1-.9-2-2-2zM9 17H7v-7h2v7zm4 0h-2V7h2v10zm4 0h-2v-4h2v4z\"/>\n",
              "    </g>\n",
              "</svg>\n",
              "  </button>\n",
              "\n",
              "<style>\n",
              "  .colab-df-quickchart {\n",
              "      --bg-color: #E8F0FE;\n",
              "      --fill-color: #1967D2;\n",
              "      --hover-bg-color: #E2EBFA;\n",
              "      --hover-fill-color: #174EA6;\n",
              "      --disabled-fill-color: #AAA;\n",
              "      --disabled-bg-color: #DDD;\n",
              "  }\n",
              "\n",
              "  [theme=dark] .colab-df-quickchart {\n",
              "      --bg-color: #3B4455;\n",
              "      --fill-color: #D2E3FC;\n",
              "      --hover-bg-color: #434B5C;\n",
              "      --hover-fill-color: #FFFFFF;\n",
              "      --disabled-bg-color: #3B4455;\n",
              "      --disabled-fill-color: #666;\n",
              "  }\n",
              "\n",
              "  .colab-df-quickchart {\n",
              "    background-color: var(--bg-color);\n",
              "    border: none;\n",
              "    border-radius: 50%;\n",
              "    cursor: pointer;\n",
              "    display: none;\n",
              "    fill: var(--fill-color);\n",
              "    height: 32px;\n",
              "    padding: 0;\n",
              "    width: 32px;\n",
              "  }\n",
              "\n",
              "  .colab-df-quickchart:hover {\n",
              "    background-color: var(--hover-bg-color);\n",
              "    box-shadow: 0 1px 2px rgba(60, 64, 67, 0.3), 0 1px 3px 1px rgba(60, 64, 67, 0.15);\n",
              "    fill: var(--button-hover-fill-color);\n",
              "  }\n",
              "\n",
              "  .colab-df-quickchart-complete:disabled,\n",
              "  .colab-df-quickchart-complete:disabled:hover {\n",
              "    background-color: var(--disabled-bg-color);\n",
              "    fill: var(--disabled-fill-color);\n",
              "    box-shadow: none;\n",
              "  }\n",
              "\n",
              "  .colab-df-spinner {\n",
              "    border: 2px solid var(--fill-color);\n",
              "    border-color: transparent;\n",
              "    border-bottom-color: var(--fill-color);\n",
              "    animation:\n",
              "      spin 1s steps(1) infinite;\n",
              "  }\n",
              "\n",
              "  @keyframes spin {\n",
              "    0% {\n",
              "      border-color: transparent;\n",
              "      border-bottom-color: var(--fill-color);\n",
              "      border-left-color: var(--fill-color);\n",
              "    }\n",
              "    20% {\n",
              "      border-color: transparent;\n",
              "      border-left-color: var(--fill-color);\n",
              "      border-top-color: var(--fill-color);\n",
              "    }\n",
              "    30% {\n",
              "      border-color: transparent;\n",
              "      border-left-color: var(--fill-color);\n",
              "      border-top-color: var(--fill-color);\n",
              "      border-right-color: var(--fill-color);\n",
              "    }\n",
              "    40% {\n",
              "      border-color: transparent;\n",
              "      border-right-color: var(--fill-color);\n",
              "      border-top-color: var(--fill-color);\n",
              "    }\n",
              "    60% {\n",
              "      border-color: transparent;\n",
              "      border-right-color: var(--fill-color);\n",
              "    }\n",
              "    80% {\n",
              "      border-color: transparent;\n",
              "      border-right-color: var(--fill-color);\n",
              "      border-bottom-color: var(--fill-color);\n",
              "    }\n",
              "    90% {\n",
              "      border-color: transparent;\n",
              "      border-bottom-color: var(--fill-color);\n",
              "    }\n",
              "  }\n",
              "</style>\n",
              "\n",
              "  <script>\n",
              "    async function quickchart(key) {\n",
              "      const quickchartButtonEl =\n",
              "        document.querySelector('#' + key + ' button');\n",
              "      quickchartButtonEl.disabled = true;  // To prevent multiple clicks.\n",
              "      quickchartButtonEl.classList.add('colab-df-spinner');\n",
              "      try {\n",
              "        const charts = await google.colab.kernel.invokeFunction(\n",
              "            'suggestCharts', [key], {});\n",
              "      } catch (error) {\n",
              "        console.error('Error during call to suggestCharts:', error);\n",
              "      }\n",
              "      quickchartButtonEl.classList.remove('colab-df-spinner');\n",
              "      quickchartButtonEl.classList.add('colab-df-quickchart-complete');\n",
              "    }\n",
              "    (() => {\n",
              "      let quickchartButtonEl =\n",
              "        document.querySelector('#df-280165dd-0ea3-43a7-8ae5-785dcb8f8f82 button');\n",
              "      quickchartButtonEl.style.display =\n",
              "        google.colab.kernel.accessAllowed ? 'block' : 'none';\n",
              "    })();\n",
              "  </script>\n",
              "</div>\n",
              "    </div>\n",
              "  </div>\n"
            ],
            "application/vnd.google.colaboratory.intrinsic+json": {
              "type": "dataframe",
              "variable_name": "df",
              "summary": "{\n  \"name\": \"df\",\n  \"rows\": 5924,\n  \"fields\": [\n    {\n      \"column\": \"\\u041c\\u043e\\u0434\\u0435\\u043b\\u044c \\u0430\\u0432\\u0442\\u043e\\u043c\\u043e\\u0431\\u0438\\u043b\\u044f\",\n      \"properties\": {\n        \"dtype\": \"category\",\n        \"num_unique_values\": 2373,\n        \"samples\": [\n          \"BMW 7 series Satana\",\n          \"BMW 3 series Vulkangrau\",\n          \"BMW 3 series RED2\"\n        ],\n        \"semantic_type\": \"\",\n        \"description\": \"\"\n      }\n    },\n    {\n      \"column\": \"\\u0412\\u0440\\u0435\\u043c\\u044f \\u043f\\u0443\\u0431\\u043b\\u0438\\u043a\\u0430\\u0446\\u0438\\u0438\",\n      \"properties\": {\n        \"dtype\": \"category\",\n        \"num_unique_values\": 67,\n        \"samples\": [\n          \" \\u041d\\u043e\\u0432\\u044b\\u0439 \\u043d\\u043e\\u043c\\u0435\\u0440 \\u2014 65 77 6 949 787\",\n          \" \\u0444\\u043b\\u0435\\u0448\\u043a\\u0443 \\u0432\\u0437\\u044f\\u043b \\u0441\\u0440\\u0435\\u0434\\u043d\\u044e\\u044e \\u043f\\u043e \\u0446\\u0435\\u043d\\u0435 Kingston Canvas select plus \\u043d\\u0430 128 Gb \\u2014 \\u043d\\u043e \\u0442\\u043e \\u043b\\u0438 \\u0441 \\u043e\\u0437\\u043e\\u043d\\u0430 \\u043f\\u0440\\u0438\\u0435\\u0445\\u0430\\u043b\\u0430 \\u043f\\u0430\\u043b\\u044c, \\u0442\\u043e \\u043b\\u0438 \\u043d\\u0430\\u0434\\u043e \\u0431\\u044b\\u043b\\u043e \\u0431\\u0440\\u0430\\u0442\\u044c \\u043d\\u0430 64, \\u043d\\u043e \\u0441 \\u0444\\u043b\\u0435\\u0448\\u043a\\u043e\\u0439 \\u043f\\u0440\\u0438\\u0448\\u043b\\u043e\\u0441\\u044c \\u043f\\u043e\\u0432\\u043e\\u0437\\u0438\\u0442\\u044c\\u0441\\u044f.\",\n          \"2025-01-16\"\n        ],\n        \"semantic_type\": \"\",\n        \"description\": \"\"\n      }\n    },\n    {\n      \"column\": \"\\u041e\\u043f\\u0438\\u0441\\u0430\\u043d\\u0438\\u0435\",\n      \"properties\": {\n        \"dtype\": \"string\",\n        \"num_unique_values\": 5580,\n        \"samples\": [\n          \"\\\"\\u0418\\u043d\\u0444\\u043e\\u0440\\u043c\\u0430\\u0446\\u0438\\u0438 \\u0432 \\u0438\\u043d\\u0442\\u0435\\u0440\\u043d\\u0435\\u0442\\u0435 \\u043f\\u0440\\u0435\\u0434\\u043e\\u0441\\u0442\\u0430\\u0442\\u043e\\u0447\\u043d\\u043e.\\u041f\\u043e \\u044d\\u0442\\u043e\\u043c\\u0443 \\u043f\\u043e\\u0432\\u043e\\u0434\\u0443 \\u0434\\u043e\\u0431\\u0430\\u0432\\u0438\\u0442\\u044c \\u043e\\u0441\\u043e\\u0431\\u043e \\u043d\\u0435\\u0447\\u0435\\u0433\\u043e, \\u0442\\u043e\\u043b\\u044c\\u043a\\u043e \\u0449\\u0435\\u0442\\u043a\\u0438 \\u043b\\u0443\\u0447\\u0448\\u0435 \\u0431\\u0440\\u0430\\u0442\\u044c \\u0441 \\u043f\\u0440\\u043e\\u0432\\u043e\\u0434\\u043e\\u043c \\u0441\\u0431\\u043e\\u043a\\u0443. \\u041d\\u0443 \\u0438 \\u0449\\u0451\\u0442\\u043a\\u0443 \\u0432\\u043e\\u0442 \\u0442\\u0430\\u043a\\u0443\\u044e \\u043f\\u043e\\u0432\\u0435\\u0441\\u0438\\u043b \\u043d\\u0430 \\u0432\\u043e\\u0434\\u0438\\u0442\\u0435\\u043b\\u044c\\u0441\\u043a\\u0443\\u044e \\u0441\\u0442\\u043e\\u0440\\u043e\\u043d\\u0443, \\u043d\\u0430 \\u043f\\u0430\\u0441\\u0441\\u0430\\u0436\\u0438\\u0440\\u0441\\u043a\\u0443\\u044e valeo, \\u0447\\u0442\\u043e \\u0432 \\u043f\\u0440\\u0438\\u043d\\u0446\\u0438\\u043f\\u0435 \\u043e\\u0434\\u0438\\u043d \\u0438 \\u0442\\u043e\\u0442 \\u0436\\u0435 \\u043a\\u043e\\u043d\\u0446\\u0435\\u0440\\u043d.\\\"\",\n          \"\\\"\\u041f\\u043e\\u044f\\u0432\\u0438\\u043b\\u0430\\u0441\\u044c \\u043d\\u0435 \\u0442\\u0430\\u043a \\u0434\\u0430\\u0432\\u043d\\u043e \\u0443\\u0442\\u0435\\u0447\\u043a\\u0430 \\u0430\\u043d\\u0442\\u0438\\u0444\\u0440\\u0438\\u0437\\u0430. \\u041f\\u0440\\u0438\\u0447\\u0451\\u043c \\u043f\\u043e\\u0432\\u0435\\u0434\\u0435\\u043d\\u0438\\u0435 \\u0442\\u0430\\u043a\\u043e\\u0435, \\u0447\\u0442\\u043e \\u0435\\u0441\\u043b\\u0438 \\u0434\\u0432\\u0438\\u0433\\u0430\\u0442\\u0435\\u043b\\u044c \\u043d\\u0435 \\u043a\\u0440\\u0443\\u0442\\u0438\\u0442\\u044c, \\u0442\\u043e \\u0432\\u0441\\u0451 \\u0432 \\u043f\\u043e\\u0440\\u044f\\u0434\\u043a\\u0435, \\u043d\\u0438\\u0447\\u0435\\u0433\\u043e \\u043d\\u0438\\u043a\\u0443\\u0434\\u0430 \\u043d\\u0435 \\u0443\\u0445\\u043e\\u0434\\u0438\\u0442. \\u0415\\u0441\\u043b\\u0438 \\u0436\\u0435 \\u0435\\u0445\\u0430\\u0442\\u044c 200\\u043a\\u043c/\\u0447, \\u0442\\u043e \\u043a\\u0438\\u043b\\u043e\\u043c\\u0435\\u0442\\u0440\\u043e\\u0432 \\u0447\\u0435\\u0440\\u0435\\u0437 50 \\u043f\\u043e\\u0434\\u043a\\u0430\\u043f\\u043e\\u0442\\u043a\\u0430 \\u0431\\u0443\\u0434\\u0435\\u0442 \\u0437\\u0430\\u043b\\u0438\\u0442\\u0430 \\u0430\\u043d\\u0442\\u0438\\u0445\\u0440\\u0438\\u0441\\u0442\\u043e\\u043c, \\u0430 \\u043d\\u0430 \\u043f\\u0440\\u0438\\u0431\\u043e\\u0440\\u043a\\u0435 \\u0431\\u0443\\u0434\\u0435\\u0442 \\\"\\\"Kuhlwasserst prufen\\\"\\\" \\u0417\\u0430\\u0435\\u0445\\u0430\\u043b \\u0432\\u0447\\u0435\\u0440\\u0430\\u0441\\u044c \\u0434\\u043e \\u043c\\u0435\\u0445\\u0430\\u043d\\u0430, \\u043f\\u0440\\u043e\\u0432\\u0435\\u0440\\u0438\\u043b\\u0438 \\u0434\\u0432\\u0438\\u0433\\u0430\\u0442\\u0435\\u043b\\u044c \\u0433\\u0430\\u0437\\u043e\\u0430\\u043d\\u0430\\u043b\\u0438\\u0437\\u0430\\u0442\\u043e\\u0440\\u043e\\u043c \\u2014 \\u0432\\u0440\\u043e\\u0434\\u0435 \\u043a\\u0430\\u043a \\u043d\\u0438\\u0447\\u0435\\u0433\\u043e \\u043a\\u0440\\u0438\\u0442\\u0438\\u0447\\u043d\\u043e\\u0433\\u043e \\u2014 \\u0440\\u0435\\u0430\\u0433\\u0435\\u043d\\u0442\\u044b \\u043f\\u043e\\u0447\\u0442\\u0438 \\u043d\\u0435 \\u043f\\u043e\\u043c\\u0435\\u043d\\u044f\\u043b\\u0438 \\u0446\\u0432\\u0435\\u0442. \\u041e\\u043f\\u0440\\u0435\\u0441\\u0441\\u043e\\u0432\\u0430\\u043b\\u0438 \\u0441\\u0438\\u0441\\u0442\\u0435\\u043c\\u0443 \\u2014 \\u0432\\u0441\\u0451 \\u043d\\u043e\\u0440\\u043c\\u0430\\u043b\\u044c\\u043d\\u043e, \\u0432\\u0440\\u043e\\u0434\\u0435 \\u0431\\u044b \\u0433\\u0435\\u0440\\u043c\\u0435\\u0442\\u0438\\u0447\\u043d\\u043e. \\u041f\\u043e\\u043b\\u0443\\u0447\\u0430\\u0435\\u0442\\u0441\\u044f, \\u0447\\u0442\\u043e? \\u041f\\u0440\\u043e\\u0431\\u043a\\u0430 \\u0440\\u0430\\u0441\\u0448\\u0438\\u0440\\u0438\\u0442\\u0435\\u043b\\u044f? \\u0418\\u043b\\u0438 \\u0435\\u0449\\u0451 \\u0432\\u043e\\u0437\\u043c\\u043e\\u0436\\u043d\\u044b \\u043d\\u0435\\u043f\\u0440\\u0438\\u044f\\u0442\\u043d\\u043e\\u0441\\u0442\\u0438?\\\"\",\n          \"\\u041f\\u0440\\u0438\\u0432\\u0435\\u0442, \\u043d\\u0443\\u0436\\u043d\\u0430 \\u043f\\u043e\\u043c\\u043e\\u0449\\u044c. \\u041c\\u043e\\u0436\\u0435\\u0442 \\u043a\\u0442\\u043e \\u0437\\u043d\\u0430\\u0435\\u0442, \\u043a\\u0430\\u043a \\u043e\\u043d\\u0438 \\u043d\\u0430\\u0437\\u044b\\u0432\\u0430\\u044e\\u0442\\u0441\\u044f, \\u043a\\u0430\\u043a\\u043e\\u0439 \\u0441\\u0442\\u0438\\u043b\\u044c \\u0438\\u043b\\u0438 \\u0447\\u0442\\u043e-\\u0442\\u043e \\u0442\\u0430\\u043a\\u043e\\u0435. \\u041e\\u0447\\u0435\\u043d\\u044c \\u0441\\u0438\\u043b\\u044c\\u043d\\u043e \\u043f\\u043e\\u043d\\u0440\\u0430\\u0432\\u0438\\u043b\\u0438\\u0441\\u044c, \\u0445\\u043e\\u0447\\u0443 \\u0441\\u0435\\u0431\\u0435 \\u0442\\u0430\\u043a\\u0438\\u0435 \\u0436\\u0435 \\u0448\\u0432\\u044b\\u0440\\u043d\\u0443\\u0442\\u044c \\u043d\\u0430 \\u043b\\u0435\\u0442\\u043e. \\u0411\\u0443\\u0434\\u0443 \\u043e\\u0447\\u0435\\u043d\\u044c \\u0441\\u0438\\u043b\\u044c\\u043d\\u043e \\u043f\\u0440\\u0438\\u0437\\u043d\\u0430\\u0442\\u0435\\u043b\\u0435\\u043d!\"\n        ],\n        \"semantic_type\": \"\",\n        \"description\": \"\"\n      }\n    }\n  ]\n}"
            }
          },
          "metadata": {},
          "execution_count": 20
        }
      ]
    },
    {
      "cell_type": "code",
      "source": [
        "df = df.dropna()"
      ],
      "metadata": {
        "id": "R1zN7SwbY3q_"
      },
      "execution_count": null,
      "outputs": []
    },
    {
      "cell_type": "markdown",
      "source": [
        "# Предобработка текстовых данных"
      ],
      "metadata": {
        "id": "wbNc3Y6z3MoS"
      }
    },
    {
      "cell_type": "code",
      "source": [
        "!python -m spacy download ru_core_news_sm"
      ],
      "metadata": {
        "colab": {
          "base_uri": "https://localhost:8080/"
        },
        "id": "-rVz55CoJ3R_",
        "outputId": "7ecf1ee2-4875-462e-f668-73ec450ed2b4",
        "collapsed": true
      },
      "execution_count": null,
      "outputs": [
        {
          "output_type": "stream",
          "name": "stdout",
          "text": [
            "Collecting ru-core-news-sm==3.8.0\n",
            "  Downloading https://github.com/explosion/spacy-models/releases/download/ru_core_news_sm-3.8.0/ru_core_news_sm-3.8.0-py3-none-any.whl (15.3 MB)\n",
            "\u001b[2K     \u001b[90m━━━━━━━━━━━━━━━━━━━━━━━━━━━━━━━━━━━━━━━━\u001b[0m \u001b[32m15.3/15.3 MB\u001b[0m \u001b[31m72.9 MB/s\u001b[0m eta \u001b[36m0:00:00\u001b[0m\n",
            "\u001b[?25hCollecting pymorphy3>=1.0.0 (from ru-core-news-sm==3.8.0)\n",
            "  Downloading pymorphy3-2.0.3-py3-none-any.whl.metadata (1.9 kB)\n",
            "Collecting dawg2-python>=0.8.0 (from pymorphy3>=1.0.0->ru-core-news-sm==3.8.0)\n",
            "  Downloading dawg2_python-0.9.0-py3-none-any.whl.metadata (7.5 kB)\n",
            "Collecting pymorphy3-dicts-ru (from pymorphy3>=1.0.0->ru-core-news-sm==3.8.0)\n",
            "  Downloading pymorphy3_dicts_ru-2.4.417150.4580142-py2.py3-none-any.whl.metadata (2.0 kB)\n",
            "Downloading pymorphy3-2.0.3-py3-none-any.whl (53 kB)\n",
            "\u001b[2K   \u001b[90m━━━━━━━━━━━━━━━━━━━━━━━━━━━━━━━━━━━━━━━━\u001b[0m \u001b[32m53.8/53.8 kB\u001b[0m \u001b[31m2.8 MB/s\u001b[0m eta \u001b[36m0:00:00\u001b[0m\n",
            "\u001b[?25hDownloading dawg2_python-0.9.0-py3-none-any.whl (9.3 kB)\n",
            "Downloading pymorphy3_dicts_ru-2.4.417150.4580142-py2.py3-none-any.whl (8.4 MB)\n",
            "\u001b[2K   \u001b[90m━━━━━━━━━━━━━━━━━━━━━━━━━━━━━━━━━━━━━━━━\u001b[0m \u001b[32m8.4/8.4 MB\u001b[0m \u001b[31m65.8 MB/s\u001b[0m eta \u001b[36m0:00:00\u001b[0m\n",
            "\u001b[?25hInstalling collected packages: pymorphy3-dicts-ru, dawg2-python, pymorphy3, ru-core-news-sm\n",
            "Successfully installed dawg2-python-0.9.0 pymorphy3-2.0.3 pymorphy3-dicts-ru-2.4.417150.4580142 ru-core-news-sm-3.8.0\n",
            "\u001b[38;5;2m✔ Download and installation successful\u001b[0m\n",
            "You can now load the package via spacy.load('ru_core_news_sm')\n",
            "\u001b[38;5;3m⚠ Restart to reload dependencies\u001b[0m\n",
            "If you are in a Jupyter or Colab notebook, you may need to restart Python in\n",
            "order to load all the package's dependencies. You can do this by selecting the\n",
            "'Restart kernel' or 'Restart runtime' option.\n"
          ]
        }
      ]
    },
    {
      "cell_type": "code",
      "source": [
        "import spacy\n",
        "\n",
        "\n",
        "nlp = spacy.load(\"ru_core_news_sm\")"
      ],
      "metadata": {
        "id": "IZXW_0iTK9Q4"
      },
      "execution_count": null,
      "outputs": []
    },
    {
      "cell_type": "code",
      "source": [
        "!pip install demoji"
      ],
      "metadata": {
        "colab": {
          "base_uri": "https://localhost:8080/"
        },
        "id": "duOILEPQHwaS",
        "outputId": "70c71d19-6b68-43e0-8044-56ad9643cdec"
      },
      "execution_count": null,
      "outputs": [
        {
          "output_type": "stream",
          "name": "stdout",
          "text": [
            "Collecting demoji\n",
            "  Downloading demoji-1.1.0-py3-none-any.whl.metadata (9.2 kB)\n",
            "Downloading demoji-1.1.0-py3-none-any.whl (42 kB)\n",
            "\u001b[?25l   \u001b[90m━━━━━━━━━━━━━━━━━━━━━━━━━━━━━━━━━━━━━━━━\u001b[0m \u001b[32m0.0/42.9 kB\u001b[0m \u001b[31m?\u001b[0m eta \u001b[36m-:--:--\u001b[0m\r\u001b[2K   \u001b[90m━━━━━━━━━━━━━━━━━━━━━━━━━━━━━━━━━━━━━━━━\u001b[0m \u001b[32m42.9/42.9 kB\u001b[0m \u001b[31m3.0 MB/s\u001b[0m eta \u001b[36m0:00:00\u001b[0m\n",
            "\u001b[?25hInstalling collected packages: demoji\n",
            "Successfully installed demoji-1.1.0\n"
          ]
        }
      ]
    },
    {
      "cell_type": "code",
      "source": [
        "import demoji\n",
        "\n",
        "def remove_emoji(text):\n",
        "    new_text = demoji.replace(text, '')\n",
        "    return new_text"
      ],
      "metadata": {
        "id": "OKjHgvLIHvQT"
      },
      "execution_count": null,
      "outputs": []
    },
    {
      "cell_type": "code",
      "source": [
        "def preprocess(text):\n",
        "  text = remove_emoji(text)\n",
        "  doc = nlp(' '.join(list(map(lambda x: x.lower(), text.split()))))\n",
        "  no_punct = [token for token in doc if not token.is_punct]\n",
        "  no_stop = [token for token in no_punct if not token.is_stop]\n",
        "  return \" \".join([token.lemma_ for token in no_stop])"
      ],
      "metadata": {
        "id": "PCsB8u3LApAl"
      },
      "execution_count": null,
      "outputs": []
    },
    {
      "cell_type": "code",
      "source": [
        "df[\"Предобработанные данные\"] = df[\"Описание\"].apply(preprocess)\n",
        "df"
      ],
      "metadata": {
        "colab": {
          "base_uri": "https://localhost:8080/",
          "height": 423
        },
        "id": "gNDFR9EDAz65",
        "outputId": "99b4aebc-e6a1-4b09-e8be-d6b956c3b019"
      },
      "execution_count": null,
      "outputs": [
        {
          "output_type": "execute_result",
          "data": {
            "text/plain": [
              "                          Модель автомобиля Время публикации  \\\n",
              "0                                    BMW X1       2025-01-17   \n",
              "1      BMW 3 series AventurineRot «Вишенка»       2025-01-17   \n",
              "2                                BMW X5 40d       2025-01-17   \n",
              "3                 BMW 5 series Experimental       2025-01-17   \n",
              "4     BMW 5 series LifestyleEdition 3.0d MT       2025-01-17   \n",
              "...                                     ...              ...   \n",
              "5917                    BMW 5 series Бестия       2024-12-17   \n",
              "5918                          BMW X5 ХАпять       2024-12-17   \n",
              "5921                                 BMW X5       2024-12-17   \n",
              "5922                BMW 4 series ❄440xdrive       2024-12-17   \n",
              "5923                           BMW 5 series       2024-12-17   \n",
              "\n",
              "                                               Описание  \\\n",
              "0     Добрый день. Листал как то Яндекс маркет и нат...   \n",
              "1     \"Так, ну я, в общем, всего месяц не думал о ма...   \n",
              "2         Пришла посылка, пока думаем, что с ней делать   \n",
              "3     \"Нашел человека который сделает pappel natur П...   \n",
              "4     \"Народ ✌️ всем привет, с прошедшими всех празд...   \n",
              "...                                                 ...   \n",
              "5917  \"Сборка затянулась 😵‍💫 ну радует только то что...   \n",
              "5918  \"Всем привет !))) Немного полезной информации,...   \n",
              "5921  \"Имеется новый нерабочий ДМРВ vdo.Несовсем кон...   \n",
              "5922  \"Всем привет, давно как мне казалось для внешн...   \n",
              "5923  А дальше знаете сами… Продолжение записок сума...   \n",
              "\n",
              "                                Предобработанные данные  \n",
              "0     добрый день листать яндекс маркет наткнуться к...  \n",
              "1     общий месяц думать машина приехать проведать п...  \n",
              "2                          прийти посылка думать делать  \n",
              "3     найти человек сделать pappel natur поехать тар...  \n",
              "4     народ привет прошедшими праздник вопросик пове...  \n",
              "...                                                 ...  \n",
              "5917  сборка затянуться радовать финишный прямая ост...  \n",
              "5918  привет полезный информация причина последствие...  \n",
              "5921  иметься новый нерабочий дмрв vdo.несовсем новы...  \n",
              "5922  привет внешний вид 440 хватать порог губа коле...  \n",
              "5923  знать продолжение записка сумасшеднего решение...  \n",
              "\n",
              "[5586 rows x 4 columns]"
            ],
            "text/html": [
              "\n",
              "  <div id=\"df-4a345f97-48f1-425f-ae9c-9b81eaf431e8\" class=\"colab-df-container\">\n",
              "    <div>\n",
              "<style scoped>\n",
              "    .dataframe tbody tr th:only-of-type {\n",
              "        vertical-align: middle;\n",
              "    }\n",
              "\n",
              "    .dataframe tbody tr th {\n",
              "        vertical-align: top;\n",
              "    }\n",
              "\n",
              "    .dataframe thead th {\n",
              "        text-align: right;\n",
              "    }\n",
              "</style>\n",
              "<table border=\"1\" class=\"dataframe\">\n",
              "  <thead>\n",
              "    <tr style=\"text-align: right;\">\n",
              "      <th></th>\n",
              "      <th>Модель автомобиля</th>\n",
              "      <th>Время публикации</th>\n",
              "      <th>Описание</th>\n",
              "      <th>Предобработанные данные</th>\n",
              "    </tr>\n",
              "  </thead>\n",
              "  <tbody>\n",
              "    <tr>\n",
              "      <th>0</th>\n",
              "      <td>BMW X1</td>\n",
              "      <td>2025-01-17</td>\n",
              "      <td>Добрый день. Листал как то Яндекс маркет и нат...</td>\n",
              "      <td>добрый день листать яндекс маркет наткнуться к...</td>\n",
              "    </tr>\n",
              "    <tr>\n",
              "      <th>1</th>\n",
              "      <td>BMW 3 series AventurineRot «Вишенка»</td>\n",
              "      <td>2025-01-17</td>\n",
              "      <td>\"Так, ну я, в общем, всего месяц не думал о ма...</td>\n",
              "      <td>общий месяц думать машина приехать проведать п...</td>\n",
              "    </tr>\n",
              "    <tr>\n",
              "      <th>2</th>\n",
              "      <td>BMW X5 40d</td>\n",
              "      <td>2025-01-17</td>\n",
              "      <td>Пришла посылка, пока думаем, что с ней делать</td>\n",
              "      <td>прийти посылка думать делать</td>\n",
              "    </tr>\n",
              "    <tr>\n",
              "      <th>3</th>\n",
              "      <td>BMW 5 series Experimental</td>\n",
              "      <td>2025-01-17</td>\n",
              "      <td>\"Нашел человека который сделает pappel natur П...</td>\n",
              "      <td>найти человек сделать pappel natur поехать тар...</td>\n",
              "    </tr>\n",
              "    <tr>\n",
              "      <th>4</th>\n",
              "      <td>BMW 5 series LifestyleEdition 3.0d MT</td>\n",
              "      <td>2025-01-17</td>\n",
              "      <td>\"Народ ✌️ всем привет, с прошедшими всех празд...</td>\n",
              "      <td>народ привет прошедшими праздник вопросик пове...</td>\n",
              "    </tr>\n",
              "    <tr>\n",
              "      <th>...</th>\n",
              "      <td>...</td>\n",
              "      <td>...</td>\n",
              "      <td>...</td>\n",
              "      <td>...</td>\n",
              "    </tr>\n",
              "    <tr>\n",
              "      <th>5917</th>\n",
              "      <td>BMW 5 series Бестия</td>\n",
              "      <td>2024-12-17</td>\n",
              "      <td>\"Сборка затянулась 😵‍💫 ну радует только то что...</td>\n",
              "      <td>сборка затянуться радовать финишный прямая ост...</td>\n",
              "    </tr>\n",
              "    <tr>\n",
              "      <th>5918</th>\n",
              "      <td>BMW X5 ХАпять</td>\n",
              "      <td>2024-12-17</td>\n",
              "      <td>\"Всем привет !))) Немного полезной информации,...</td>\n",
              "      <td>привет полезный информация причина последствие...</td>\n",
              "    </tr>\n",
              "    <tr>\n",
              "      <th>5921</th>\n",
              "      <td>BMW X5</td>\n",
              "      <td>2024-12-17</td>\n",
              "      <td>\"Имеется новый нерабочий ДМРВ vdo.Несовсем кон...</td>\n",
              "      <td>иметься новый нерабочий дмрв vdo.несовсем новы...</td>\n",
              "    </tr>\n",
              "    <tr>\n",
              "      <th>5922</th>\n",
              "      <td>BMW 4 series ❄440xdrive</td>\n",
              "      <td>2024-12-17</td>\n",
              "      <td>\"Всем привет, давно как мне казалось для внешн...</td>\n",
              "      <td>привет внешний вид 440 хватать порог губа коле...</td>\n",
              "    </tr>\n",
              "    <tr>\n",
              "      <th>5923</th>\n",
              "      <td>BMW 5 series</td>\n",
              "      <td>2024-12-17</td>\n",
              "      <td>А дальше знаете сами… Продолжение записок сума...</td>\n",
              "      <td>знать продолжение записка сумасшеднего решение...</td>\n",
              "    </tr>\n",
              "  </tbody>\n",
              "</table>\n",
              "<p>5586 rows × 4 columns</p>\n",
              "</div>\n",
              "    <div class=\"colab-df-buttons\">\n",
              "\n",
              "  <div class=\"colab-df-container\">\n",
              "    <button class=\"colab-df-convert\" onclick=\"convertToInteractive('df-4a345f97-48f1-425f-ae9c-9b81eaf431e8')\"\n",
              "            title=\"Convert this dataframe to an interactive table.\"\n",
              "            style=\"display:none;\">\n",
              "\n",
              "  <svg xmlns=\"http://www.w3.org/2000/svg\" height=\"24px\" viewBox=\"0 -960 960 960\">\n",
              "    <path d=\"M120-120v-720h720v720H120Zm60-500h600v-160H180v160Zm220 220h160v-160H400v160Zm0 220h160v-160H400v160ZM180-400h160v-160H180v160Zm440 0h160v-160H620v160ZM180-180h160v-160H180v160Zm440 0h160v-160H620v160Z\"/>\n",
              "  </svg>\n",
              "    </button>\n",
              "\n",
              "  <style>\n",
              "    .colab-df-container {\n",
              "      display:flex;\n",
              "      gap: 12px;\n",
              "    }\n",
              "\n",
              "    .colab-df-convert {\n",
              "      background-color: #E8F0FE;\n",
              "      border: none;\n",
              "      border-radius: 50%;\n",
              "      cursor: pointer;\n",
              "      display: none;\n",
              "      fill: #1967D2;\n",
              "      height: 32px;\n",
              "      padding: 0 0 0 0;\n",
              "      width: 32px;\n",
              "    }\n",
              "\n",
              "    .colab-df-convert:hover {\n",
              "      background-color: #E2EBFA;\n",
              "      box-shadow: 0px 1px 2px rgba(60, 64, 67, 0.3), 0px 1px 3px 1px rgba(60, 64, 67, 0.15);\n",
              "      fill: #174EA6;\n",
              "    }\n",
              "\n",
              "    .colab-df-buttons div {\n",
              "      margin-bottom: 4px;\n",
              "    }\n",
              "\n",
              "    [theme=dark] .colab-df-convert {\n",
              "      background-color: #3B4455;\n",
              "      fill: #D2E3FC;\n",
              "    }\n",
              "\n",
              "    [theme=dark] .colab-df-convert:hover {\n",
              "      background-color: #434B5C;\n",
              "      box-shadow: 0px 1px 3px 1px rgba(0, 0, 0, 0.15);\n",
              "      filter: drop-shadow(0px 1px 2px rgba(0, 0, 0, 0.3));\n",
              "      fill: #FFFFFF;\n",
              "    }\n",
              "  </style>\n",
              "\n",
              "    <script>\n",
              "      const buttonEl =\n",
              "        document.querySelector('#df-4a345f97-48f1-425f-ae9c-9b81eaf431e8 button.colab-df-convert');\n",
              "      buttonEl.style.display =\n",
              "        google.colab.kernel.accessAllowed ? 'block' : 'none';\n",
              "\n",
              "      async function convertToInteractive(key) {\n",
              "        const element = document.querySelector('#df-4a345f97-48f1-425f-ae9c-9b81eaf431e8');\n",
              "        const dataTable =\n",
              "          await google.colab.kernel.invokeFunction('convertToInteractive',\n",
              "                                                    [key], {});\n",
              "        if (!dataTable) return;\n",
              "\n",
              "        const docLinkHtml = 'Like what you see? Visit the ' +\n",
              "          '<a target=\"_blank\" href=https://colab.research.google.com/notebooks/data_table.ipynb>data table notebook</a>'\n",
              "          + ' to learn more about interactive tables.';\n",
              "        element.innerHTML = '';\n",
              "        dataTable['output_type'] = 'display_data';\n",
              "        await google.colab.output.renderOutput(dataTable, element);\n",
              "        const docLink = document.createElement('div');\n",
              "        docLink.innerHTML = docLinkHtml;\n",
              "        element.appendChild(docLink);\n",
              "      }\n",
              "    </script>\n",
              "  </div>\n",
              "\n",
              "\n",
              "<div id=\"df-6c263201-745c-4f7e-9363-ff46065dd777\">\n",
              "  <button class=\"colab-df-quickchart\" onclick=\"quickchart('df-6c263201-745c-4f7e-9363-ff46065dd777')\"\n",
              "            title=\"Suggest charts\"\n",
              "            style=\"display:none;\">\n",
              "\n",
              "<svg xmlns=\"http://www.w3.org/2000/svg\" height=\"24px\"viewBox=\"0 0 24 24\"\n",
              "     width=\"24px\">\n",
              "    <g>\n",
              "        <path d=\"M19 3H5c-1.1 0-2 .9-2 2v14c0 1.1.9 2 2 2h14c1.1 0 2-.9 2-2V5c0-1.1-.9-2-2-2zM9 17H7v-7h2v7zm4 0h-2V7h2v10zm4 0h-2v-4h2v4z\"/>\n",
              "    </g>\n",
              "</svg>\n",
              "  </button>\n",
              "\n",
              "<style>\n",
              "  .colab-df-quickchart {\n",
              "      --bg-color: #E8F0FE;\n",
              "      --fill-color: #1967D2;\n",
              "      --hover-bg-color: #E2EBFA;\n",
              "      --hover-fill-color: #174EA6;\n",
              "      --disabled-fill-color: #AAA;\n",
              "      --disabled-bg-color: #DDD;\n",
              "  }\n",
              "\n",
              "  [theme=dark] .colab-df-quickchart {\n",
              "      --bg-color: #3B4455;\n",
              "      --fill-color: #D2E3FC;\n",
              "      --hover-bg-color: #434B5C;\n",
              "      --hover-fill-color: #FFFFFF;\n",
              "      --disabled-bg-color: #3B4455;\n",
              "      --disabled-fill-color: #666;\n",
              "  }\n",
              "\n",
              "  .colab-df-quickchart {\n",
              "    background-color: var(--bg-color);\n",
              "    border: none;\n",
              "    border-radius: 50%;\n",
              "    cursor: pointer;\n",
              "    display: none;\n",
              "    fill: var(--fill-color);\n",
              "    height: 32px;\n",
              "    padding: 0;\n",
              "    width: 32px;\n",
              "  }\n",
              "\n",
              "  .colab-df-quickchart:hover {\n",
              "    background-color: var(--hover-bg-color);\n",
              "    box-shadow: 0 1px 2px rgba(60, 64, 67, 0.3), 0 1px 3px 1px rgba(60, 64, 67, 0.15);\n",
              "    fill: var(--button-hover-fill-color);\n",
              "  }\n",
              "\n",
              "  .colab-df-quickchart-complete:disabled,\n",
              "  .colab-df-quickchart-complete:disabled:hover {\n",
              "    background-color: var(--disabled-bg-color);\n",
              "    fill: var(--disabled-fill-color);\n",
              "    box-shadow: none;\n",
              "  }\n",
              "\n",
              "  .colab-df-spinner {\n",
              "    border: 2px solid var(--fill-color);\n",
              "    border-color: transparent;\n",
              "    border-bottom-color: var(--fill-color);\n",
              "    animation:\n",
              "      spin 1s steps(1) infinite;\n",
              "  }\n",
              "\n",
              "  @keyframes spin {\n",
              "    0% {\n",
              "      border-color: transparent;\n",
              "      border-bottom-color: var(--fill-color);\n",
              "      border-left-color: var(--fill-color);\n",
              "    }\n",
              "    20% {\n",
              "      border-color: transparent;\n",
              "      border-left-color: var(--fill-color);\n",
              "      border-top-color: var(--fill-color);\n",
              "    }\n",
              "    30% {\n",
              "      border-color: transparent;\n",
              "      border-left-color: var(--fill-color);\n",
              "      border-top-color: var(--fill-color);\n",
              "      border-right-color: var(--fill-color);\n",
              "    }\n",
              "    40% {\n",
              "      border-color: transparent;\n",
              "      border-right-color: var(--fill-color);\n",
              "      border-top-color: var(--fill-color);\n",
              "    }\n",
              "    60% {\n",
              "      border-color: transparent;\n",
              "      border-right-color: var(--fill-color);\n",
              "    }\n",
              "    80% {\n",
              "      border-color: transparent;\n",
              "      border-right-color: var(--fill-color);\n",
              "      border-bottom-color: var(--fill-color);\n",
              "    }\n",
              "    90% {\n",
              "      border-color: transparent;\n",
              "      border-bottom-color: var(--fill-color);\n",
              "    }\n",
              "  }\n",
              "</style>\n",
              "\n",
              "  <script>\n",
              "    async function quickchart(key) {\n",
              "      const quickchartButtonEl =\n",
              "        document.querySelector('#' + key + ' button');\n",
              "      quickchartButtonEl.disabled = true;  // To prevent multiple clicks.\n",
              "      quickchartButtonEl.classList.add('colab-df-spinner');\n",
              "      try {\n",
              "        const charts = await google.colab.kernel.invokeFunction(\n",
              "            'suggestCharts', [key], {});\n",
              "      } catch (error) {\n",
              "        console.error('Error during call to suggestCharts:', error);\n",
              "      }\n",
              "      quickchartButtonEl.classList.remove('colab-df-spinner');\n",
              "      quickchartButtonEl.classList.add('colab-df-quickchart-complete');\n",
              "    }\n",
              "    (() => {\n",
              "      let quickchartButtonEl =\n",
              "        document.querySelector('#df-6c263201-745c-4f7e-9363-ff46065dd777 button');\n",
              "      quickchartButtonEl.style.display =\n",
              "        google.colab.kernel.accessAllowed ? 'block' : 'none';\n",
              "    })();\n",
              "  </script>\n",
              "</div>\n",
              "    </div>\n",
              "  </div>\n"
            ],
            "application/vnd.google.colaboratory.intrinsic+json": {
              "type": "dataframe",
              "variable_name": "df",
              "summary": "{\n  \"name\": \"df\",\n  \"rows\": 5586,\n  \"fields\": [\n    {\n      \"column\": \"\\u041c\\u043e\\u0434\\u0435\\u043b\\u044c \\u0430\\u0432\\u0442\\u043e\\u043c\\u043e\\u0431\\u0438\\u043b\\u044f\",\n      \"properties\": {\n        \"dtype\": \"category\",\n        \"num_unique_values\": 2282,\n        \"samples\": [\n          \"BMW 3 series Compact \\u0424\\u0435\\u043d\\u0438\\u043a\\u0441\",\n          \"BMW X4 \\ud83d\\udd39Phytonic Blue 30D\\ud83d\\udd39\",\n          \"BMW 5 series \\u0422\\u0443\\u043c\\u0430\\u043d\\u043d\\u0438\\u043a\"\n        ],\n        \"semantic_type\": \"\",\n        \"description\": \"\"\n      }\n    },\n    {\n      \"column\": \"\\u0412\\u0440\\u0435\\u043c\\u044f \\u043f\\u0443\\u0431\\u043b\\u0438\\u043a\\u0430\\u0446\\u0438\\u0438\",\n      \"properties\": {\n        \"dtype\": \"category\",\n        \"num_unique_values\": 60,\n        \"samples\": [\n          \"2025-01-17\",\n          \") \\u043f\\u043e\\u044e\\u0441\\u043e\\u043c \\u2014 \\u0434\\u043e\\u043f\\u044b \\u0432 \\u0432\\u0438\\u0434\\u0435 \\u0437\\u0430\\u043c\\u0435\\u043d\\u044b \\u0442\\u0440\\u0435\\u0441\\u043d\\u0443\\u0432\\u0448\\u0438\\u0445 \\u043e\\u0442\\u0440\\u0430\\u0436\\u0430\\u0442\\u0435\\u043b\\u0435\\u0439 \\u0432 \\u0431\\u0430\\u043c\\u043f\\u0435\\u0440\\u0435 \\u0437\\u0430\\u0434\\u043d\\u0435\\u043c, \\u0441\\u0442\\u0435\\u043a\\u043b\\u0430 \\u0442\\u0443\\u043c\\u0430\\u043d\\u043e\\u043a \\u0438 \\u043f\\u0430\\u0440\\u043a\\u0442\\u0440\\u043e\\u043d\\u0438\\u043a\\u043e\\u0432 \\u0432 \\u0446\\u0432\\u0435\\u0442. \\u041a\\u0441\\u0442\\u0430\\u0442\\u0438, \\u0435\\u0441\\u0442\\u044c \\u043a\\u043e\\u043c\\u043f\\u043b\\u0435\\u043a\\u0442 \\u043e\\u0442\\u0440\\u0430\\u0436\\u0430\\u0442\\u0435\\u043b\\u0435\\u0439 \\u0437\\u0430\\u0434\\u043d\\u0435\\u0433\\u043e \\u0431\\u0430\\u043c\\u043f\\u0435\\u0440\\u0430 \\u043d\\u0430 \\u0414\\u041e\\u0440\\u0435\\u0441\\u0442, \\u043f\\u043e\\u0434\\u0430\\u0440\\u044e \\u0435\\u0441\\u043b\\u0438 \\u043a\\u043e\\u043c\\u0443 \\u043d\\u0430\\u0434\\u043e )\",\n          \" NTY \\u043b\\u0435\\u0432\\u0430\\u044f NPW-BM-029 \\u0437\\u0430 \\u043e\\u0431\\u0435 \\u0432\\u044b\\u0448\\u043b\\u043e \\u043e\\u043a\\u043e\\u043b\\u043e 24 000 \\u0440\\u0443\\u0431\\u043b\\u0435\\u0439. \\u041f\\u043e\\u043a\\u0430 \\u043d\\u0435 \\u0443\\u0441\\u0442\\u0430\\u043d\\u0430\\u0432\\u043b\\u0438\\u0432\\u0430\\u043b, \\u043e\\u0431\\u044f\\u0437\\u0430\\u0442\\u0435\\u043b\\u044c\\u043d\\u043e \\u0434\\u043e\\u043f\\u043e\\u043b\\u043d\\u044e \\u043e\\u0442\\u0437\\u044b\\u0432 \\u043f\\u043e\\u0441\\u043b\\u0435 \\u043d\\u0430\\u0447\\u0430\\u043b\\u0430 \\u044d\\u043a\\u0441\\u043f\\u043b\\u0443\\u0430\\u0442\\u0430\\u0446\\u0438\\u0438, \\u043f\\u0440\\u0435\\u0434\\u043d\\u043e\\u0432\\u043e\\u0433\\u043e\\u0434\\u043d\\u044f\\u044f \\u0441\\u0443\\u0435\\u0442\\u0430 \\u0441\\u0432\\u043e\\u0431\\u043e\\u0434\\u043d\\u044b\\u0445 \\u043c\\u0435\\u0441\\u0442 \\u0432 \\u0441\\u0435\\u0440\\u0432\\u0438\\u0441\\u0435 \\u043d\\u0435\\u0442. \\u041f\\u043e \\u0440\\u0435\\u043a\\u043e\\u043c\\u0435\\u043d\\u0434\\u0430\\u0446\\u0438\\u0438 \\u043c\\u0430\\u0441\\u0442\\u0435\\u0440\\u0430 \\u0435\\u0449\\u0435 \\u0431\\u0443\\u0434\\u0435\\u0442 \\u0437\\u0430\\u043c\\u0435\\u043d\\u0430 \\u043f\\u0440\\u043e\\u043a\\u043b\\u0430\\u0434\\u043e\\u043a \\u0442\\u0435\\u043f\\u043b\\u043e\\u043e\\u0431\\u043c\\u0435\\u043d\\u043d\\u0438\\u043a\\u0430, \\u0437\\u0430\\u043f\\u0447\\u0430\\u0441\\u0442\\u0438 \\u043d\\u0430 \\u0440\\u0443\\u043a\\u0430\\u0445 \\u0436\\u0434\\u0443 \\u0441\\u0432\\u043e\\u0431\\u043e\\u0434\\u043d\\u043e\\u0433\\u043e \\u0434\\u043d\\u044f \\u0434\\u043b\\u044f \\u0437\\u0430\\u043c\\u0435\\u043d\\u044b.\"\n        ],\n        \"semantic_type\": \"\",\n        \"description\": \"\"\n      }\n    },\n    {\n      \"column\": \"\\u041e\\u043f\\u0438\\u0441\\u0430\\u043d\\u0438\\u0435\",\n      \"properties\": {\n        \"dtype\": \"string\",\n        \"num_unique_values\": 5580,\n        \"samples\": [\n          \"\\\"\\u0418\\u043d\\u0444\\u043e\\u0440\\u043c\\u0430\\u0446\\u0438\\u0438 \\u0432 \\u0438\\u043d\\u0442\\u0435\\u0440\\u043d\\u0435\\u0442\\u0435 \\u043f\\u0440\\u0435\\u0434\\u043e\\u0441\\u0442\\u0430\\u0442\\u043e\\u0447\\u043d\\u043e.\\u041f\\u043e \\u044d\\u0442\\u043e\\u043c\\u0443 \\u043f\\u043e\\u0432\\u043e\\u0434\\u0443 \\u0434\\u043e\\u0431\\u0430\\u0432\\u0438\\u0442\\u044c \\u043e\\u0441\\u043e\\u0431\\u043e \\u043d\\u0435\\u0447\\u0435\\u0433\\u043e, \\u0442\\u043e\\u043b\\u044c\\u043a\\u043e \\u0449\\u0435\\u0442\\u043a\\u0438 \\u043b\\u0443\\u0447\\u0448\\u0435 \\u0431\\u0440\\u0430\\u0442\\u044c \\u0441 \\u043f\\u0440\\u043e\\u0432\\u043e\\u0434\\u043e\\u043c \\u0441\\u0431\\u043e\\u043a\\u0443. \\u041d\\u0443 \\u0438 \\u0449\\u0451\\u0442\\u043a\\u0443 \\u0432\\u043e\\u0442 \\u0442\\u0430\\u043a\\u0443\\u044e \\u043f\\u043e\\u0432\\u0435\\u0441\\u0438\\u043b \\u043d\\u0430 \\u0432\\u043e\\u0434\\u0438\\u0442\\u0435\\u043b\\u044c\\u0441\\u043a\\u0443\\u044e \\u0441\\u0442\\u043e\\u0440\\u043e\\u043d\\u0443, \\u043d\\u0430 \\u043f\\u0430\\u0441\\u0441\\u0430\\u0436\\u0438\\u0440\\u0441\\u043a\\u0443\\u044e valeo, \\u0447\\u0442\\u043e \\u0432 \\u043f\\u0440\\u0438\\u043d\\u0446\\u0438\\u043f\\u0435 \\u043e\\u0434\\u0438\\u043d \\u0438 \\u0442\\u043e\\u0442 \\u0436\\u0435 \\u043a\\u043e\\u043d\\u0446\\u0435\\u0440\\u043d.\\\"\",\n          \"\\\"\\u041f\\u043e\\u044f\\u0432\\u0438\\u043b\\u0430\\u0441\\u044c \\u043d\\u0435 \\u0442\\u0430\\u043a \\u0434\\u0430\\u0432\\u043d\\u043e \\u0443\\u0442\\u0435\\u0447\\u043a\\u0430 \\u0430\\u043d\\u0442\\u0438\\u0444\\u0440\\u0438\\u0437\\u0430. \\u041f\\u0440\\u0438\\u0447\\u0451\\u043c \\u043f\\u043e\\u0432\\u0435\\u0434\\u0435\\u043d\\u0438\\u0435 \\u0442\\u0430\\u043a\\u043e\\u0435, \\u0447\\u0442\\u043e \\u0435\\u0441\\u043b\\u0438 \\u0434\\u0432\\u0438\\u0433\\u0430\\u0442\\u0435\\u043b\\u044c \\u043d\\u0435 \\u043a\\u0440\\u0443\\u0442\\u0438\\u0442\\u044c, \\u0442\\u043e \\u0432\\u0441\\u0451 \\u0432 \\u043f\\u043e\\u0440\\u044f\\u0434\\u043a\\u0435, \\u043d\\u0438\\u0447\\u0435\\u0433\\u043e \\u043d\\u0438\\u043a\\u0443\\u0434\\u0430 \\u043d\\u0435 \\u0443\\u0445\\u043e\\u0434\\u0438\\u0442. \\u0415\\u0441\\u043b\\u0438 \\u0436\\u0435 \\u0435\\u0445\\u0430\\u0442\\u044c 200\\u043a\\u043c/\\u0447, \\u0442\\u043e \\u043a\\u0438\\u043b\\u043e\\u043c\\u0435\\u0442\\u0440\\u043e\\u0432 \\u0447\\u0435\\u0440\\u0435\\u0437 50 \\u043f\\u043e\\u0434\\u043a\\u0430\\u043f\\u043e\\u0442\\u043a\\u0430 \\u0431\\u0443\\u0434\\u0435\\u0442 \\u0437\\u0430\\u043b\\u0438\\u0442\\u0430 \\u0430\\u043d\\u0442\\u0438\\u0445\\u0440\\u0438\\u0441\\u0442\\u043e\\u043c, \\u0430 \\u043d\\u0430 \\u043f\\u0440\\u0438\\u0431\\u043e\\u0440\\u043a\\u0435 \\u0431\\u0443\\u0434\\u0435\\u0442 \\\"\\\"Kuhlwasserst prufen\\\"\\\" \\u0417\\u0430\\u0435\\u0445\\u0430\\u043b \\u0432\\u0447\\u0435\\u0440\\u0430\\u0441\\u044c \\u0434\\u043e \\u043c\\u0435\\u0445\\u0430\\u043d\\u0430, \\u043f\\u0440\\u043e\\u0432\\u0435\\u0440\\u0438\\u043b\\u0438 \\u0434\\u0432\\u0438\\u0433\\u0430\\u0442\\u0435\\u043b\\u044c \\u0433\\u0430\\u0437\\u043e\\u0430\\u043d\\u0430\\u043b\\u0438\\u0437\\u0430\\u0442\\u043e\\u0440\\u043e\\u043c \\u2014 \\u0432\\u0440\\u043e\\u0434\\u0435 \\u043a\\u0430\\u043a \\u043d\\u0438\\u0447\\u0435\\u0433\\u043e \\u043a\\u0440\\u0438\\u0442\\u0438\\u0447\\u043d\\u043e\\u0433\\u043e \\u2014 \\u0440\\u0435\\u0430\\u0433\\u0435\\u043d\\u0442\\u044b \\u043f\\u043e\\u0447\\u0442\\u0438 \\u043d\\u0435 \\u043f\\u043e\\u043c\\u0435\\u043d\\u044f\\u043b\\u0438 \\u0446\\u0432\\u0435\\u0442. \\u041e\\u043f\\u0440\\u0435\\u0441\\u0441\\u043e\\u0432\\u0430\\u043b\\u0438 \\u0441\\u0438\\u0441\\u0442\\u0435\\u043c\\u0443 \\u2014 \\u0432\\u0441\\u0451 \\u043d\\u043e\\u0440\\u043c\\u0430\\u043b\\u044c\\u043d\\u043e, \\u0432\\u0440\\u043e\\u0434\\u0435 \\u0431\\u044b \\u0433\\u0435\\u0440\\u043c\\u0435\\u0442\\u0438\\u0447\\u043d\\u043e. \\u041f\\u043e\\u043b\\u0443\\u0447\\u0430\\u0435\\u0442\\u0441\\u044f, \\u0447\\u0442\\u043e? \\u041f\\u0440\\u043e\\u0431\\u043a\\u0430 \\u0440\\u0430\\u0441\\u0448\\u0438\\u0440\\u0438\\u0442\\u0435\\u043b\\u044f? \\u0418\\u043b\\u0438 \\u0435\\u0449\\u0451 \\u0432\\u043e\\u0437\\u043c\\u043e\\u0436\\u043d\\u044b \\u043d\\u0435\\u043f\\u0440\\u0438\\u044f\\u0442\\u043d\\u043e\\u0441\\u0442\\u0438?\\\"\",\n          \"\\u041f\\u0440\\u0438\\u0432\\u0435\\u0442, \\u043d\\u0443\\u0436\\u043d\\u0430 \\u043f\\u043e\\u043c\\u043e\\u0449\\u044c. \\u041c\\u043e\\u0436\\u0435\\u0442 \\u043a\\u0442\\u043e \\u0437\\u043d\\u0430\\u0435\\u0442, \\u043a\\u0430\\u043a \\u043e\\u043d\\u0438 \\u043d\\u0430\\u0437\\u044b\\u0432\\u0430\\u044e\\u0442\\u0441\\u044f, \\u043a\\u0430\\u043a\\u043e\\u0439 \\u0441\\u0442\\u0438\\u043b\\u044c \\u0438\\u043b\\u0438 \\u0447\\u0442\\u043e-\\u0442\\u043e \\u0442\\u0430\\u043a\\u043e\\u0435. \\u041e\\u0447\\u0435\\u043d\\u044c \\u0441\\u0438\\u043b\\u044c\\u043d\\u043e \\u043f\\u043e\\u043d\\u0440\\u0430\\u0432\\u0438\\u043b\\u0438\\u0441\\u044c, \\u0445\\u043e\\u0447\\u0443 \\u0441\\u0435\\u0431\\u0435 \\u0442\\u0430\\u043a\\u0438\\u0435 \\u0436\\u0435 \\u0448\\u0432\\u044b\\u0440\\u043d\\u0443\\u0442\\u044c \\u043d\\u0430 \\u043b\\u0435\\u0442\\u043e. \\u0411\\u0443\\u0434\\u0443 \\u043e\\u0447\\u0435\\u043d\\u044c \\u0441\\u0438\\u043b\\u044c\\u043d\\u043e \\u043f\\u0440\\u0438\\u0437\\u043d\\u0430\\u0442\\u0435\\u043b\\u0435\\u043d!\"\n        ],\n        \"semantic_type\": \"\",\n        \"description\": \"\"\n      }\n    },\n    {\n      \"column\": \"\\u041f\\u0440\\u0435\\u0434\\u043e\\u0431\\u0440\\u0430\\u0431\\u043e\\u0442\\u0430\\u043d\\u043d\\u044b\\u0435 \\u0434\\u0430\\u043d\\u043d\\u044b\\u0435\",\n      \"properties\": {\n        \"dtype\": \"string\",\n        \"num_unique_values\": 5575,\n        \"samples\": [\n          \"\\u0441\\u0438\\u043b\\u0430 \\u043e\\u0431\\u0441\\u0442\\u043e\\u044f\\u0442\\u0435\\u043b\\u044c\\u0441\\u0442\\u0432\\u043e \\u0444\\u0438\\u043d\\u0430\\u043d\\u0441\\u043e\\u0432\\u044b\\u0439 \\u043c\\u0430\\u0448\\u0438\\u043d\\u0430 \\u043e\\u0431\\u0440\\u0435\\u0441\\u0442\\u0438 \\u043d\\u043e\\u0432\\u044b\\u0439 \\u0432\\u043b\\u0430\\u0434\\u0435\\u043b\\u0435\\u0446 \\u043c\\u0430\\u0448\\u0438\\u043d\\u0430 \\u0432\\u043b\\u043e\\u0436\\u0438\\u0442\\u044c \\u0434\\u0430\\u043b\\u044c\\u043d\\u0435\\u0439\\u0448\\u0438\\u0439 \\u0441\\u0443\\u0434\\u044c\\u0431\\u0430 \\u043d\\u0435\\u0431\\u0435\\u0437\\u0440\\u0430\\u0437\\u043b\\u0438\\u0447\\u043d\\u044b\\u0439 \\u043f\\u043e\\u043c\\u043e\\u0433\\u0430\\u0442\\u044c \\u0441\\u043e\\u0432\\u0435\\u0442 \\u0437\\u043d\\u0430\\u043d\\u0438\\u0435 \\u0441\\u0432\\u043e\\u0431\\u043e\\u0434\\u043d\\u044b\\u0439 \\u0432\\u0440\\u0435\\u043c\\u044f \\u043f\\u043e\\u043c\\u043e\\u0433\\u0430\\u0442\\u044c \\u0442\\u0435\\u0445\\u043d\\u0438\\u0447\\u0435\\u0441\\u043a\\u0438\\u0439 \\u0432\\u043e\\u043f\\u0440\\u043e\\u0441 \\u043c\\u0430\\u0448\\u0438\\u043d\\u0430 \\u0431\\u043b\\u043e\\u0433 \\u0432\\u0435\\u0440\\u043e\\u044f\\u0442\\u043d\\u043e \\u043f\\u0440\\u043e\\u0434\\u043e\\u043b\\u0436\\u0438\\u0442\\u044c \\u0432\\u0435\\u0441\\u0442\\u0438 \\u043a\\u0443\\u0440\\u0441 \\u043d\\u043e\\u0432\\u044b\\u0439 \\u0432\\u043b\\u0430\\u043b\\u0435\\u043b\\u0435\\u0446 \\u0434\\u0440\\u0430\\u0439\\u04322 \\u0448\\u0430\\u0440\\u0438\\u0442 \\u0438\\u043c\\u0435\\u0442 \\u043f\\u043b\\u0430\\u043d \\u0438\\u043d\\u0442\\u0435\\u0440\\u0435\\u0441\\u043d\\u044b\\u0439 \\u0434\\u043e\\u043e\\u0441\\u043d\\u0430\\u0449\\u0435\\u043d\\u0438\\u044f\\u043c\",\n          \"\\u043f\\u0440\\u0435\\u0434\\u044b\\u0434\\u0443\\u0449\\u0438\\u0439 \\u0440\\u0435\\u043c\\u043e\\u043d\\u0442 \\u043f\\u043e\\u0434\\u043e\\u0439\\u0442\\u0438 \\u0437\\u0430\\u043a\\u0430\\u0437\\u0430\\u043d\\u043d\\u044b\\u0439 \\u043f\\u0430\\u0442\\u0440\\u0443\\u0431\\u043e\\u043a \\u0438\\u043d\\u0442\\u0435\\u0440\\u043a\\u0443\\u043b\\u0435\\u0440\\u0430 \\u0432\\u0435\\u0440\\u0445\\u043d\\u0438\\u0439 \\u0447\\u0430\\u0441\\u0442\\u044c \\u043e\\u0431\\u043c\\u0435\\u043d\\u044f\\u0442\\u044c \\u0437\\u0430\\u043c\\u0435\\u043d\\u0438\\u0442\\u044c \\u0434\\u043e\\u043c \\u043f\\u043e\\u0433\\u043e\\u0434\\u043a\\u0430 \\u0432\\u044b\\u0434\\u0430\\u0442\\u044c\\u0441\\u044f \\u0441\\u043e\\u043b\\u043d\\u0435\\u0447\\u043d\\u044b\\u0439 12 \\u0433\\u0440\\u0430\\u0434\\u0443\\u0441 \\u0433\\u0440\\u0435\\u0445 \\u043f\\u043e\\u043a\\u0440\\u0443\\u0442\\u0438\\u0442\\u044c \\u0433\\u0430\\u0439\\u043a\\u0430 \\u0441\\u043e\\u043b\\u043d\\u0446\\u0435 \\u0440\\u0430\\u0437\\u043b\\u043e\\u0436\\u0438\\u0442\\u044c\\u0441\\u044f \\u0442\\u0440\\u0430\\u0432\\u043a\\u0430 \\u0432\\u0438\\u043d\\u043e\\u0432\\u043d\\u0438\\u043a \\u0442\\u043e\\u0440\\u0436\\u0435\\u0441\\u0442\\u0432\\u043e \\u0442\\u0440\\u0435\\u0449\\u0438\\u043d\\u0430\\u0445 \\u0448\\u043b\\u0430\\u043d\\u0433 \\u043d\\u043e\\u0432\\u044b\\u0439 thermotec dcb066tt \\u0448\\u043b\\u0430\\u043d\\u0433 \\u0432\\u0441\\u0442\\u0430\\u0442\\u044c \\u0440\\u043e\\u0434\\u043d\\u043e\\u0439 \\u043f\\u043e\\u043b\\u043d\\u043e\\u0441\\u0442\\u044c\\u044e \\u043f\\u0430\\u0442\\u0440\\u0443\\u0431\\u043e\\u043a \\u0441\\u043d\\u0438\\u043c\\u0430\\u0442\\u044c \\u043e\\u0431\\u043e\\u0439\\u0442\\u0438\\u0441\\u044c \\u043c\\u0438\\u043d\\u0438\\u043c\\u0443\\u043c\",\n          \"\\u043f\\u0440\\u0438\\u0432\\u0435\\u0442 \\u043d\\u0443\\u0436\\u043d\\u044b\\u0439 \\u043f\\u043e\\u043c\\u043e\\u0449\\u044c \\u0437\\u043d\\u0430\\u0442\\u044c \\u043d\\u0430\\u0437\\u044b\\u0432\\u0430\\u0442\\u044c\\u0441\\u044f \\u0441\\u0442\\u0438\\u043b\\u044c \\u0441\\u0438\\u043b\\u044c\\u043d\\u043e \\u043f\\u043e\\u043d\\u0440\\u0430\\u0432\\u0438\\u0442\\u044c\\u0441\\u044f \\u0448\\u0432\\u044b\\u0440\\u043d\\u0443\\u0442\\u044c \\u043b\\u0435\\u0442\\u043e \\u0441\\u0438\\u043b\\u044c\\u043d\\u043e \\u043f\\u0440\\u0438\\u0437\\u043d\\u0430\\u0442\\u0435\\u043b\\u044c\\u043d\\u044b\\u0439\"\n        ],\n        \"semantic_type\": \"\",\n        \"description\": \"\"\n      }\n    }\n  ]\n}"
            }
          },
          "metadata": {},
          "execution_count": 10
        }
      ]
    },
    {
      "cell_type": "code",
      "source": [
        "def preprocess2(text):\n",
        "  text = ' '.join([i for i in text.split() if not i.isdigit()])\n",
        "  return text"
      ],
      "metadata": {
        "id": "8zFhaR7Nos2R"
      },
      "execution_count": null,
      "outputs": []
    },
    {
      "cell_type": "code",
      "source": [
        "df[\"Предобработанные данные\"] = df[\"Предобработанные данные\"].apply(preprocess2)"
      ],
      "metadata": {
        "id": "CuS4v8ClMC_t"
      },
      "execution_count": null,
      "outputs": []
    },
    {
      "cell_type": "code",
      "source": [
        "df['Предобработанные данные'].to_csv('drive2_BMW_preprocessed.csv', index=False, encoding='utf-8-sig', sep=';')"
      ],
      "metadata": {
        "id": "6gIV67sZZjY1"
      },
      "execution_count": null,
      "outputs": []
    },
    {
      "cell_type": "code",
      "source": [
        "df['Описание'].to_csv('drive2_BMW_all.csv', index=False, encoding='utf-8-sig', sep=';')"
      ],
      "metadata": {
        "id": "3sGzdx2Mt_aG"
      },
      "execution_count": null,
      "outputs": []
    },
    {
      "cell_type": "markdown",
      "source": [
        "# Bag-Of-Words model"
      ],
      "metadata": {
        "id": "Q3I5BAwT3b63"
      }
    },
    {
      "cell_type": "code",
      "source": [
        "from sklearn.feature_extraction.text import CountVectorizer\n",
        "\n",
        "\n",
        "vectorizer = CountVectorizer()\n",
        "bow = vectorizer.fit_transform([df['Предобработанные данные'][0]])\n",
        "count_array = bow.toarray()\n",
        "features = vectorizer.get_feature_names_out()\n",
        "\n",
        "df_bow = pd.DataFrame(data=count_array, columns=features)"
      ],
      "metadata": {
        "id": "YglK1qdO3faI"
      },
      "execution_count": null,
      "outputs": []
    },
    {
      "cell_type": "markdown",
      "source": [
        "Получили частоту встречаемости каждого слова в отдельно взятом сообщении."
      ],
      "metadata": {
        "id": "g6PtExMosaIO"
      }
    },
    {
      "cell_type": "code",
      "source": [
        "df_bow.transpose()"
      ],
      "metadata": {
        "colab": {
          "base_uri": "https://localhost:8080/",
          "height": 1000
        },
        "id": "z5YL4mHlp7H_",
        "outputId": "a99d50cb-83b3-41f4-80c0-b7951c3f4350"
      },
      "execution_count": null,
      "outputs": [
        {
          "output_type": "execute_result",
          "data": {
            "text/plain": [
              "                0\n",
              "алик            1\n",
              "белый           1\n",
              "бмв             1\n",
              "взять           1\n",
              "вч              2\n",
              "выход           1\n",
              "гу              1\n",
              "дело            1\n",
              "день            2\n",
              "добрый          1\n",
              "достать         1\n",
              "драйв           1\n",
              "драйве          1\n",
              "жгуте           1\n",
              "заказать        2\n",
              "заказывать      1\n",
              "заморачиваться  1\n",
              "идти            1\n",
              "искать          2\n",
              "колонка         2\n",
              "комплект        2\n",
              "комплектация    1\n",
              "коричневый      1\n",
              "листать         1\n",
              "маркет          1\n",
              "место           1\n",
              "музыка          1\n",
              "наткнуться      1\n",
              "общий           1\n",
              "остаться        1\n",
              "писать          1\n",
              "подпитать       1\n",
              "подцепиться     1\n",
              "появиться       1\n",
              "прийти          1\n",
              "провод          1\n",
              "родный          1\n",
              "рубеж           1\n",
              "рубль           1\n",
              "ставить         1\n",
              "торпеда         1\n",
              "фишка           1\n",
              "хватать         1\n",
              "цена            1\n",
              "центральный     1\n",
              "часть           1\n",
              "черно           2\n",
              "яндекс          2"
            ],
            "text/html": [
              "\n",
              "  <div id=\"df-11f4ba50-f25b-45d7-ad63-3c5d6e467b36\" class=\"colab-df-container\">\n",
              "    <div>\n",
              "<style scoped>\n",
              "    .dataframe tbody tr th:only-of-type {\n",
              "        vertical-align: middle;\n",
              "    }\n",
              "\n",
              "    .dataframe tbody tr th {\n",
              "        vertical-align: top;\n",
              "    }\n",
              "\n",
              "    .dataframe thead th {\n",
              "        text-align: right;\n",
              "    }\n",
              "</style>\n",
              "<table border=\"1\" class=\"dataframe\">\n",
              "  <thead>\n",
              "    <tr style=\"text-align: right;\">\n",
              "      <th></th>\n",
              "      <th>0</th>\n",
              "    </tr>\n",
              "  </thead>\n",
              "  <tbody>\n",
              "    <tr>\n",
              "      <th>алик</th>\n",
              "      <td>1</td>\n",
              "    </tr>\n",
              "    <tr>\n",
              "      <th>белый</th>\n",
              "      <td>1</td>\n",
              "    </tr>\n",
              "    <tr>\n",
              "      <th>бмв</th>\n",
              "      <td>1</td>\n",
              "    </tr>\n",
              "    <tr>\n",
              "      <th>взять</th>\n",
              "      <td>1</td>\n",
              "    </tr>\n",
              "    <tr>\n",
              "      <th>вч</th>\n",
              "      <td>2</td>\n",
              "    </tr>\n",
              "    <tr>\n",
              "      <th>выход</th>\n",
              "      <td>1</td>\n",
              "    </tr>\n",
              "    <tr>\n",
              "      <th>гу</th>\n",
              "      <td>1</td>\n",
              "    </tr>\n",
              "    <tr>\n",
              "      <th>дело</th>\n",
              "      <td>1</td>\n",
              "    </tr>\n",
              "    <tr>\n",
              "      <th>день</th>\n",
              "      <td>2</td>\n",
              "    </tr>\n",
              "    <tr>\n",
              "      <th>добрый</th>\n",
              "      <td>1</td>\n",
              "    </tr>\n",
              "    <tr>\n",
              "      <th>достать</th>\n",
              "      <td>1</td>\n",
              "    </tr>\n",
              "    <tr>\n",
              "      <th>драйв</th>\n",
              "      <td>1</td>\n",
              "    </tr>\n",
              "    <tr>\n",
              "      <th>драйве</th>\n",
              "      <td>1</td>\n",
              "    </tr>\n",
              "    <tr>\n",
              "      <th>жгуте</th>\n",
              "      <td>1</td>\n",
              "    </tr>\n",
              "    <tr>\n",
              "      <th>заказать</th>\n",
              "      <td>2</td>\n",
              "    </tr>\n",
              "    <tr>\n",
              "      <th>заказывать</th>\n",
              "      <td>1</td>\n",
              "    </tr>\n",
              "    <tr>\n",
              "      <th>заморачиваться</th>\n",
              "      <td>1</td>\n",
              "    </tr>\n",
              "    <tr>\n",
              "      <th>идти</th>\n",
              "      <td>1</td>\n",
              "    </tr>\n",
              "    <tr>\n",
              "      <th>искать</th>\n",
              "      <td>2</td>\n",
              "    </tr>\n",
              "    <tr>\n",
              "      <th>колонка</th>\n",
              "      <td>2</td>\n",
              "    </tr>\n",
              "    <tr>\n",
              "      <th>комплект</th>\n",
              "      <td>2</td>\n",
              "    </tr>\n",
              "    <tr>\n",
              "      <th>комплектация</th>\n",
              "      <td>1</td>\n",
              "    </tr>\n",
              "    <tr>\n",
              "      <th>коричневый</th>\n",
              "      <td>1</td>\n",
              "    </tr>\n",
              "    <tr>\n",
              "      <th>листать</th>\n",
              "      <td>1</td>\n",
              "    </tr>\n",
              "    <tr>\n",
              "      <th>маркет</th>\n",
              "      <td>1</td>\n",
              "    </tr>\n",
              "    <tr>\n",
              "      <th>место</th>\n",
              "      <td>1</td>\n",
              "    </tr>\n",
              "    <tr>\n",
              "      <th>музыка</th>\n",
              "      <td>1</td>\n",
              "    </tr>\n",
              "    <tr>\n",
              "      <th>наткнуться</th>\n",
              "      <td>1</td>\n",
              "    </tr>\n",
              "    <tr>\n",
              "      <th>общий</th>\n",
              "      <td>1</td>\n",
              "    </tr>\n",
              "    <tr>\n",
              "      <th>остаться</th>\n",
              "      <td>1</td>\n",
              "    </tr>\n",
              "    <tr>\n",
              "      <th>писать</th>\n",
              "      <td>1</td>\n",
              "    </tr>\n",
              "    <tr>\n",
              "      <th>подпитать</th>\n",
              "      <td>1</td>\n",
              "    </tr>\n",
              "    <tr>\n",
              "      <th>подцепиться</th>\n",
              "      <td>1</td>\n",
              "    </tr>\n",
              "    <tr>\n",
              "      <th>появиться</th>\n",
              "      <td>1</td>\n",
              "    </tr>\n",
              "    <tr>\n",
              "      <th>прийти</th>\n",
              "      <td>1</td>\n",
              "    </tr>\n",
              "    <tr>\n",
              "      <th>провод</th>\n",
              "      <td>1</td>\n",
              "    </tr>\n",
              "    <tr>\n",
              "      <th>родный</th>\n",
              "      <td>1</td>\n",
              "    </tr>\n",
              "    <tr>\n",
              "      <th>рубеж</th>\n",
              "      <td>1</td>\n",
              "    </tr>\n",
              "    <tr>\n",
              "      <th>рубль</th>\n",
              "      <td>1</td>\n",
              "    </tr>\n",
              "    <tr>\n",
              "      <th>ставить</th>\n",
              "      <td>1</td>\n",
              "    </tr>\n",
              "    <tr>\n",
              "      <th>торпеда</th>\n",
              "      <td>1</td>\n",
              "    </tr>\n",
              "    <tr>\n",
              "      <th>фишка</th>\n",
              "      <td>1</td>\n",
              "    </tr>\n",
              "    <tr>\n",
              "      <th>хватать</th>\n",
              "      <td>1</td>\n",
              "    </tr>\n",
              "    <tr>\n",
              "      <th>цена</th>\n",
              "      <td>1</td>\n",
              "    </tr>\n",
              "    <tr>\n",
              "      <th>центральный</th>\n",
              "      <td>1</td>\n",
              "    </tr>\n",
              "    <tr>\n",
              "      <th>часть</th>\n",
              "      <td>1</td>\n",
              "    </tr>\n",
              "    <tr>\n",
              "      <th>черно</th>\n",
              "      <td>2</td>\n",
              "    </tr>\n",
              "    <tr>\n",
              "      <th>яндекс</th>\n",
              "      <td>2</td>\n",
              "    </tr>\n",
              "  </tbody>\n",
              "</table>\n",
              "</div>\n",
              "    <div class=\"colab-df-buttons\">\n",
              "\n",
              "  <div class=\"colab-df-container\">\n",
              "    <button class=\"colab-df-convert\" onclick=\"convertToInteractive('df-11f4ba50-f25b-45d7-ad63-3c5d6e467b36')\"\n",
              "            title=\"Convert this dataframe to an interactive table.\"\n",
              "            style=\"display:none;\">\n",
              "\n",
              "  <svg xmlns=\"http://www.w3.org/2000/svg\" height=\"24px\" viewBox=\"0 -960 960 960\">\n",
              "    <path d=\"M120-120v-720h720v720H120Zm60-500h600v-160H180v160Zm220 220h160v-160H400v160Zm0 220h160v-160H400v160ZM180-400h160v-160H180v160Zm440 0h160v-160H620v160ZM180-180h160v-160H180v160Zm440 0h160v-160H620v160Z\"/>\n",
              "  </svg>\n",
              "    </button>\n",
              "\n",
              "  <style>\n",
              "    .colab-df-container {\n",
              "      display:flex;\n",
              "      gap: 12px;\n",
              "    }\n",
              "\n",
              "    .colab-df-convert {\n",
              "      background-color: #E8F0FE;\n",
              "      border: none;\n",
              "      border-radius: 50%;\n",
              "      cursor: pointer;\n",
              "      display: none;\n",
              "      fill: #1967D2;\n",
              "      height: 32px;\n",
              "      padding: 0 0 0 0;\n",
              "      width: 32px;\n",
              "    }\n",
              "\n",
              "    .colab-df-convert:hover {\n",
              "      background-color: #E2EBFA;\n",
              "      box-shadow: 0px 1px 2px rgba(60, 64, 67, 0.3), 0px 1px 3px 1px rgba(60, 64, 67, 0.15);\n",
              "      fill: #174EA6;\n",
              "    }\n",
              "\n",
              "    .colab-df-buttons div {\n",
              "      margin-bottom: 4px;\n",
              "    }\n",
              "\n",
              "    [theme=dark] .colab-df-convert {\n",
              "      background-color: #3B4455;\n",
              "      fill: #D2E3FC;\n",
              "    }\n",
              "\n",
              "    [theme=dark] .colab-df-convert:hover {\n",
              "      background-color: #434B5C;\n",
              "      box-shadow: 0px 1px 3px 1px rgba(0, 0, 0, 0.15);\n",
              "      filter: drop-shadow(0px 1px 2px rgba(0, 0, 0, 0.3));\n",
              "      fill: #FFFFFF;\n",
              "    }\n",
              "  </style>\n",
              "\n",
              "    <script>\n",
              "      const buttonEl =\n",
              "        document.querySelector('#df-11f4ba50-f25b-45d7-ad63-3c5d6e467b36 button.colab-df-convert');\n",
              "      buttonEl.style.display =\n",
              "        google.colab.kernel.accessAllowed ? 'block' : 'none';\n",
              "\n",
              "      async function convertToInteractive(key) {\n",
              "        const element = document.querySelector('#df-11f4ba50-f25b-45d7-ad63-3c5d6e467b36');\n",
              "        const dataTable =\n",
              "          await google.colab.kernel.invokeFunction('convertToInteractive',\n",
              "                                                    [key], {});\n",
              "        if (!dataTable) return;\n",
              "\n",
              "        const docLinkHtml = 'Like what you see? Visit the ' +\n",
              "          '<a target=\"_blank\" href=https://colab.research.google.com/notebooks/data_table.ipynb>data table notebook</a>'\n",
              "          + ' to learn more about interactive tables.';\n",
              "        element.innerHTML = '';\n",
              "        dataTable['output_type'] = 'display_data';\n",
              "        await google.colab.output.renderOutput(dataTable, element);\n",
              "        const docLink = document.createElement('div');\n",
              "        docLink.innerHTML = docLinkHtml;\n",
              "        element.appendChild(docLink);\n",
              "      }\n",
              "    </script>\n",
              "  </div>\n",
              "\n",
              "\n",
              "<div id=\"df-a1581916-3117-4a3f-90ef-6ae662f6c68b\">\n",
              "  <button class=\"colab-df-quickchart\" onclick=\"quickchart('df-a1581916-3117-4a3f-90ef-6ae662f6c68b')\"\n",
              "            title=\"Suggest charts\"\n",
              "            style=\"display:none;\">\n",
              "\n",
              "<svg xmlns=\"http://www.w3.org/2000/svg\" height=\"24px\"viewBox=\"0 0 24 24\"\n",
              "     width=\"24px\">\n",
              "    <g>\n",
              "        <path d=\"M19 3H5c-1.1 0-2 .9-2 2v14c0 1.1.9 2 2 2h14c1.1 0 2-.9 2-2V5c0-1.1-.9-2-2-2zM9 17H7v-7h2v7zm4 0h-2V7h2v10zm4 0h-2v-4h2v4z\"/>\n",
              "    </g>\n",
              "</svg>\n",
              "  </button>\n",
              "\n",
              "<style>\n",
              "  .colab-df-quickchart {\n",
              "      --bg-color: #E8F0FE;\n",
              "      --fill-color: #1967D2;\n",
              "      --hover-bg-color: #E2EBFA;\n",
              "      --hover-fill-color: #174EA6;\n",
              "      --disabled-fill-color: #AAA;\n",
              "      --disabled-bg-color: #DDD;\n",
              "  }\n",
              "\n",
              "  [theme=dark] .colab-df-quickchart {\n",
              "      --bg-color: #3B4455;\n",
              "      --fill-color: #D2E3FC;\n",
              "      --hover-bg-color: #434B5C;\n",
              "      --hover-fill-color: #FFFFFF;\n",
              "      --disabled-bg-color: #3B4455;\n",
              "      --disabled-fill-color: #666;\n",
              "  }\n",
              "\n",
              "  .colab-df-quickchart {\n",
              "    background-color: var(--bg-color);\n",
              "    border: none;\n",
              "    border-radius: 50%;\n",
              "    cursor: pointer;\n",
              "    display: none;\n",
              "    fill: var(--fill-color);\n",
              "    height: 32px;\n",
              "    padding: 0;\n",
              "    width: 32px;\n",
              "  }\n",
              "\n",
              "  .colab-df-quickchart:hover {\n",
              "    background-color: var(--hover-bg-color);\n",
              "    box-shadow: 0 1px 2px rgba(60, 64, 67, 0.3), 0 1px 3px 1px rgba(60, 64, 67, 0.15);\n",
              "    fill: var(--button-hover-fill-color);\n",
              "  }\n",
              "\n",
              "  .colab-df-quickchart-complete:disabled,\n",
              "  .colab-df-quickchart-complete:disabled:hover {\n",
              "    background-color: var(--disabled-bg-color);\n",
              "    fill: var(--disabled-fill-color);\n",
              "    box-shadow: none;\n",
              "  }\n",
              "\n",
              "  .colab-df-spinner {\n",
              "    border: 2px solid var(--fill-color);\n",
              "    border-color: transparent;\n",
              "    border-bottom-color: var(--fill-color);\n",
              "    animation:\n",
              "      spin 1s steps(1) infinite;\n",
              "  }\n",
              "\n",
              "  @keyframes spin {\n",
              "    0% {\n",
              "      border-color: transparent;\n",
              "      border-bottom-color: var(--fill-color);\n",
              "      border-left-color: var(--fill-color);\n",
              "    }\n",
              "    20% {\n",
              "      border-color: transparent;\n",
              "      border-left-color: var(--fill-color);\n",
              "      border-top-color: var(--fill-color);\n",
              "    }\n",
              "    30% {\n",
              "      border-color: transparent;\n",
              "      border-left-color: var(--fill-color);\n",
              "      border-top-color: var(--fill-color);\n",
              "      border-right-color: var(--fill-color);\n",
              "    }\n",
              "    40% {\n",
              "      border-color: transparent;\n",
              "      border-right-color: var(--fill-color);\n",
              "      border-top-color: var(--fill-color);\n",
              "    }\n",
              "    60% {\n",
              "      border-color: transparent;\n",
              "      border-right-color: var(--fill-color);\n",
              "    }\n",
              "    80% {\n",
              "      border-color: transparent;\n",
              "      border-right-color: var(--fill-color);\n",
              "      border-bottom-color: var(--fill-color);\n",
              "    }\n",
              "    90% {\n",
              "      border-color: transparent;\n",
              "      border-bottom-color: var(--fill-color);\n",
              "    }\n",
              "  }\n",
              "</style>\n",
              "\n",
              "  <script>\n",
              "    async function quickchart(key) {\n",
              "      const quickchartButtonEl =\n",
              "        document.querySelector('#' + key + ' button');\n",
              "      quickchartButtonEl.disabled = true;  // To prevent multiple clicks.\n",
              "      quickchartButtonEl.classList.add('colab-df-spinner');\n",
              "      try {\n",
              "        const charts = await google.colab.kernel.invokeFunction(\n",
              "            'suggestCharts', [key], {});\n",
              "      } catch (error) {\n",
              "        console.error('Error during call to suggestCharts:', error);\n",
              "      }\n",
              "      quickchartButtonEl.classList.remove('colab-df-spinner');\n",
              "      quickchartButtonEl.classList.add('colab-df-quickchart-complete');\n",
              "    }\n",
              "    (() => {\n",
              "      let quickchartButtonEl =\n",
              "        document.querySelector('#df-a1581916-3117-4a3f-90ef-6ae662f6c68b button');\n",
              "      quickchartButtonEl.style.display =\n",
              "        google.colab.kernel.accessAllowed ? 'block' : 'none';\n",
              "    })();\n",
              "  </script>\n",
              "</div>\n",
              "    </div>\n",
              "  </div>\n"
            ],
            "application/vnd.google.colaboratory.intrinsic+json": {
              "type": "dataframe",
              "summary": "{\n  \"name\": \"df_bow\",\n  \"rows\": 48,\n  \"fields\": [\n    {\n      \"column\": 0,\n      \"properties\": {\n        \"dtype\": \"number\",\n        \"std\": 0,\n        \"min\": 1,\n        \"max\": 2,\n        \"num_unique_values\": 2,\n        \"samples\": [\n          2,\n          1\n        ],\n        \"semantic_type\": \"\",\n        \"description\": \"\"\n      }\n    }\n  ]\n}"
            }
          },
          "metadata": {},
          "execution_count": 90
        }
      ]
    },
    {
      "cell_type": "markdown",
      "source": [
        "Посмотрим на топ-10 наиболее часто встречающихся слов:"
      ],
      "metadata": {
        "id": "Ir0n1TXpsszi"
      }
    },
    {
      "cell_type": "code",
      "source": [
        "df_bow.iloc[0].nlargest(10).index.tolist()"
      ],
      "metadata": {
        "colab": {
          "base_uri": "https://localhost:8080/"
        },
        "id": "iNxc_E_VqV-4",
        "outputId": "9064b622-f127-4556-cc94-30aab75f4b6f"
      },
      "execution_count": null,
      "outputs": [
        {
          "output_type": "execute_result",
          "data": {
            "text/plain": [
              "['вч',\n",
              " 'день',\n",
              " 'заказать',\n",
              " 'искать',\n",
              " 'колонка',\n",
              " 'комплект',\n",
              " 'черно',\n",
              " 'яндекс',\n",
              " 'алик',\n",
              " 'белый']"
            ]
          },
          "metadata": {},
          "execution_count": 93
        }
      ]
    },
    {
      "cell_type": "markdown",
      "source": [
        "В целом, этого уже достаточно, чтобы сделать минимальные выводы об изначальном тексте: проблемы никакой у автовладельца нет, он просто решил обновить акустическую систему в своем автомобиле."
      ],
      "metadata": {
        "id": "I3vSl1rzs7Le"
      }
    },
    {
      "cell_type": "markdown",
      "source": [
        "# TF-IDF model"
      ],
      "metadata": {
        "id": "F3ZHRGIHr2Vs"
      }
    },
    {
      "cell_type": "markdown",
      "source": [
        "В данном алгоритме значимость отдельного слова в каждом сообщении оценивается относительно встречаемости этого слова во всех сообщениях датасета."
      ],
      "metadata": {
        "id": "D6IOtkr9ICtv"
      }
    },
    {
      "cell_type": "code",
      "source": [
        "from sklearn.feature_extraction.text import TfidfVectorizer\n",
        "\n",
        "\n",
        "vectorizer2 = TfidfVectorizer()\n",
        "tf_idf = vectorizer2.fit_transform(df['Предобработанные данные'])\n",
        "count_array = tf_idf.toarray()\n",
        "features = vectorizer2.get_feature_names_out()\n",
        "\n",
        "df_tf_idf = pd.DataFrame(data=count_array, columns=features)"
      ],
      "metadata": {
        "id": "kJ6cRqPXr6S3"
      },
      "execution_count": null,
      "outputs": []
    },
    {
      "cell_type": "code",
      "source": [
        "df_tf_idf.iloc[0].nlargest(10).index.tolist()"
      ],
      "metadata": {
        "colab": {
          "base_uri": "https://localhost:8080/"
        },
        "id": "DjW_30b-HAHh",
        "outputId": "91cbd3e8-1678-40c8-be78-6cda2ec8cec3"
      },
      "execution_count": null,
      "outputs": [
        {
          "output_type": "execute_result",
          "data": {
            "text/plain": [
              "['черно',\n",
              " 'вч',\n",
              " 'яндекс',\n",
              " 'колонка',\n",
              " 'подпитать',\n",
              " 'подцепиться',\n",
              " 'жгуте',\n",
              " 'рубеж',\n",
              " 'маркет',\n",
              " 'искать']"
            ]
          },
          "metadata": {},
          "execution_count": 27
        }
      ]
    },
    {
      "cell_type": "markdown",
      "source": [
        "Сравнивая этот список с полученным выше, видим:\n",
        "1. Некоторые слова встречаются одновременно в обоих списках двух рассматриваемых алгоритмов.\n",
        "2. Алгоритм TF-IDF выделил слова, характерные для тематики автомобильного форума, в отличие от BOW."
      ],
      "metadata": {
        "id": "RprINSrRI6EF"
      }
    },
    {
      "cell_type": "markdown",
      "source": [
        "# KNN"
      ],
      "metadata": {
        "id": "81xxqa47GAlq"
      }
    },
    {
      "cell_type": "markdown",
      "source": [
        "Алгоритм K-Nearest Neighbors относится к классу метрических методов: подобные алгоритмы просто запоминают всю обучающую выборку, а на этапе предсказания ищут объекты, похожие на целевой.\n",
        "\n",
        "Применим KNN, используя TF-IDF векторы, для задачи многоклассовой классификации (но сперва - подготовка train и test датасетов):"
      ],
      "metadata": {
        "id": "PgrHaOkJl8Km"
      }
    },
    {
      "cell_type": "code",
      "source": [
        "import pandas as pd\n",
        "import csv\n",
        "import numpy as np"
      ],
      "metadata": {
        "id": "NZpQAuGULqbq"
      },
      "execution_count": null,
      "outputs": []
    },
    {
      "cell_type": "code",
      "source": [
        "df_preprocessed = pd.read_csv(\"/content/drive2_BMW_preprocessed.csv\", delimiter=';', on_bad_lines='skip', quotechar=\"'\", engine='python')\n",
        "df_preprocessed_target = pd.read_csv(\"/content/drive2_BMW_target171.csv\", delimiter=';', on_bad_lines='skip', quotechar=\"'\", engine='python')"
      ],
      "metadata": {
        "id": "TNsrcJ73oEqy"
      },
      "execution_count": null,
      "outputs": []
    },
    {
      "cell_type": "code",
      "source": [
        "X_test = df_preprocessed[:171]\n",
        "X_test = X_test.iloc[:, 0]\n",
        "y_test = df_preprocessed_target"
      ],
      "metadata": {
        "id": "slM_TmvVmfQ3"
      },
      "execution_count": null,
      "outputs": []
    },
    {
      "cell_type": "code",
      "source": [
        "df_train = pd.read_csv(\"/content/drive2_BMW_all (1).csv\", delimiter=';', on_bad_lines='skip', quotechar=\"'\", engine='python')"
      ],
      "metadata": {
        "id": "LZoMWtZfqhYg"
      },
      "execution_count": null,
      "outputs": []
    },
    {
      "cell_type": "code",
      "source": [
        "df_train[\"Предобработанные данные\"] = df_train[\"Описание\"].apply(preprocess)\n",
        "df_train[\"Предобработанные данные\"] = df_train[\"Предобработанные данные\"].apply(preprocess2)"
      ],
      "metadata": {
        "id": "4TpFrlhbqyvk"
      },
      "execution_count": null,
      "outputs": []
    },
    {
      "cell_type": "code",
      "source": [
        "X_train = df_train['Предобработанные данные']\n",
        "y_train = df_train['Неисправность']"
      ],
      "metadata": {
        "id": "Z8eXwZDarNY1"
      },
      "execution_count": null,
      "outputs": []
    },
    {
      "cell_type": "code",
      "source": [
        "from sklearn.feature_extraction.text import TfidfVectorizer\n",
        "\n",
        "\n",
        "tfidf_vectorizer = TfidfVectorizer()\n",
        "X_train = tfidf_vectorizer.fit_transform(X_train)\n",
        "X_test = tfidf_vectorizer.transform(X_test)"
      ],
      "metadata": {
        "id": "v5KRZnDFuYRb"
      },
      "execution_count": null,
      "outputs": []
    },
    {
      "cell_type": "markdown",
      "source": [
        "Подберем оптимальное количество соседей:"
      ],
      "metadata": {
        "id": "P7MB_jMitRa2"
      }
    },
    {
      "cell_type": "code",
      "source": [
        "from sklearn.neighbors import KNeighborsClassifier\n",
        "from sklearn import metrics\n",
        "import matplotlib.pyplot as plt\n",
        "\n",
        "\n",
        "train_accuracy = []\n",
        "test_accuracy = []\n",
        "\n",
        "for k in range(1, 30):\n",
        "    knn = KNeighborsClassifier(n_neighbors=k)\n",
        "    knn.fit(X_train, y_train)\n",
        "    train_accuracy.append(knn.score(X_train, y_train))\n",
        "    test_accuracy.append(knn.score(X_test, y_test))\n",
        "\n",
        "plt.plot(range(1, 30), train_accuracy, label='Train Accuracy')\n",
        "plt.plot(range(1, 30), test_accuracy, label='Test Accuracy')\n",
        "plt.xlabel('Number of Neighbors (k)')\n",
        "plt.ylabel('Accuracy')\n",
        "plt.legend()\n",
        "plt.show()"
      ],
      "metadata": {
        "id": "mUv0Vc1Imb3N",
        "colab": {
          "base_uri": "https://localhost:8080/",
          "height": 449
        },
        "outputId": "14ab225b-39f4-4a7a-d639-ac17b6075a40"
      },
      "execution_count": null,
      "outputs": [
        {
          "output_type": "display_data",
          "data": {
            "text/plain": [
              "<Figure size 640x480 with 1 Axes>"
            ],
            "image/png": "[encoded data removed]"
          },
          "metadata": {}
        }
      ]
    },
    {
      "cell_type": "markdown",
      "source": [
        "Остановимся на $k = 16$"
      ],
      "metadata": {
        "id": "UWcqYsjxCJV7"
      }
    },
    {
      "cell_type": "code",
      "source": [
        "from sklearn.metrics import classification_report\n",
        "\n",
        "\n",
        "knn = KNeighborsClassifier(n_neighbors=16, metric='cosine')\n",
        "knn.fit(X_train, y_train)\n",
        "y_pred = knn.predict(X_test)\n",
        "\n",
        "print(\"Classification Report:\")\n",
        "labels = ['система впрыска', 'топливная система', 'система зажигания', 'система смазки',\n",
        "              'кривошипно-шатунный механизм', 'система охлаждения', 'выпускная система', 'сцепление',\n",
        "              'коробка передач', 'газораспределительный механизм', 'подвеска', 'рулевое управление',\n",
        "              'тормозная система', 'электрооборудование', 'системы отопления и кондиционирования',\n",
        "              'неисправность отсутствует']\n",
        "print(classification_report(y_test, y_pred, labels=labels, zero_division=0))"
      ],
      "metadata": {
        "colab": {
          "base_uri": "https://localhost:8080/"
        },
        "id": "T_4s98yvCSvz",
        "outputId": "0d5f8a15-d352-42bf-8b5f-11cc1a7b39d0"
      },
      "execution_count": null,
      "outputs": [
        {
          "output_type": "stream",
          "name": "stdout",
          "text": [
            "Classification Report:\n",
            "                                       precision    recall  f1-score   support\n",
            "\n",
            "                      система впрыска       0.00      0.00      0.00         2\n",
            "                    топливная система       0.00      0.00      0.00         1\n",
            "                    система зажигания       0.00      0.00      0.00         2\n",
            "                       система смазки       0.00      0.00      0.00         4\n",
            "         кривошипно-шатунный механизм       0.00      0.00      0.00         4\n",
            "                   система охлаждения       0.00      0.00      0.00         9\n",
            "                    выпускная система       0.00      0.00      0.00         1\n",
            "                            сцепление       0.00      0.00      0.00         1\n",
            "                      коробка передач       0.00      0.00      0.00         3\n",
            "       газораспределительный механизм       0.00      0.00      0.00         0\n",
            "                             подвеска       1.00      0.12      0.22         8\n",
            "                   рулевое управление       0.00      0.00      0.00         3\n",
            "                    тормозная система       0.00      0.00      0.00         4\n",
            "                  электрооборудование       1.00      0.04      0.08        23\n",
            "системы отопления и кондиционирования       0.00      0.00      0.00         1\n",
            "            неисправность отсутствует       0.62      0.98      0.76       105\n",
            "\n",
            "                             accuracy                           0.61       171\n",
            "                            macro avg       0.16      0.07      0.07       171\n",
            "                         weighted avg       0.56      0.61      0.49       171\n",
            "\n"
          ]
        }
      ]
    },
    {
      "cell_type": "markdown",
      "source": [
        "Имеем (macro-average) для модели:\n",
        "\n",
        "precision: 0.16\n",
        "\n",
        "recall: 0.07\n",
        "\n",
        "f1-score: 0.07"
      ],
      "metadata": {
        "id": "2gFkul4nDoga"
      }
    },
    {
      "cell_type": "markdown",
      "source": [
        "# Logistic Regression"
      ],
      "metadata": {
        "id": "MqyYZka9GJy8"
      }
    },
    {
      "cell_type": "markdown",
      "source": [
        "Логистическая регрессия использует линейную комбинацию входных признаков и соответствующих весов, описывая линейную гиперплоскость в пространстве признаков. Затем этот результат проходит через логистическую функцию, которая переводит линейную комбинацию в вероятность принадлежности объекта к одному из классов. В случае многоклассовой классификации мы строим K линейных моделей, а затем используем softmax преобразование, чтобы получить вероятность k-го класса."
      ],
      "metadata": {
        "id": "crzrDxelF7QH"
      }
    },
    {
      "cell_type": "code",
      "source": [
        "from sklearn.linear_model import LogisticRegression\n",
        "from sklearn.model_selection import GridSearchCV\n",
        "from sklearn.metrics import classification_report, f1_score\n",
        "from sklearn.utils.class_weight import compute_class_weight\n",
        "\n",
        "\n",
        "classes = np.unique(y_train)\n",
        "class_weights = compute_class_weight(\n",
        "    class_weight='balanced',\n",
        "    classes=classes,\n",
        "    y=y_train\n",
        ")\n",
        "\n",
        "weight_dict = dict(zip(classes, class_weights))\n",
        "\n",
        "model = LogisticRegression(\n",
        "    multi_class='multinomial',\n",
        "    solver='saga',\n",
        "    max_iter=1000,\n",
        "    class_weight=weight_dict,\n",
        "    random_state=42\n",
        ")\n",
        "\n",
        "param_grid = {\n",
        "    'C': np.logspace(-3, 3, 7),\n",
        "    'penalty': ['l1', 'l2']\n",
        "}\n",
        "\n",
        "grid_search = GridSearchCV(\n",
        "    model,\n",
        "    param_grid,\n",
        "    cv=5,\n",
        "    scoring='f1_macro',\n",
        "    n_jobs=-1,\n",
        "    verbose=1\n",
        ")\n",
        "\n",
        "grid_search.fit(X_train, y_train)\n",
        "\n",
        "best_model = grid_search.best_estimator_\n",
        "y_pred = best_model.predict(X_test)\n",
        "\n",
        "print(\"Classification Report\")\n",
        "labels = ['система впрыска', 'топливная система', 'система зажигания', 'система смазки',\n",
        "              'кривошипно-шатунный механизм', 'система охлаждения', 'выпускная система', 'сцепление',\n",
        "              'коробка передач', 'газораспределительный механизм', 'подвеска', 'рулевое управление',\n",
        "              'тормозная система', 'электрооборудование', 'системы отопления и кондиционирования',\n",
        "              'неисправность отсутствует']\n",
        "print(classification_report(y_test, y_pred, labels=labels, zero_division=0))"
      ],
      "metadata": {
        "colab": {
          "base_uri": "https://localhost:8080/"
        },
        "id": "ZypJqUIiF6Lt",
        "outputId": "7c31db2b-d6b3-474f-f74f-92fcc611eddb"
      },
      "execution_count": null,
      "outputs": [
        {
          "output_type": "stream",
          "name": "stdout",
          "text": [
            "Fitting 5 folds for each of 14 candidates, totalling 70 fits\n"
          ]
        },
        {
          "output_type": "stream",
          "name": "stderr",
          "text": [
            "/usr/local/lib/python3.11/dist-packages/sklearn/model_selection/_split.py:805: UserWarning: The least populated class in y has only 1 members, which is less than n_splits=5.\n",
            "  warnings.warn(\n",
            "/usr/local/lib/python3.11/dist-packages/sklearn/linear_model/_logistic.py:1247: FutureWarning: 'multi_class' was deprecated in version 1.5 and will be removed in 1.7. From then on, it will always use 'multinomial'. Leave it to its default value to avoid this warning.\n",
            "  warnings.warn(\n"
          ]
        },
        {
          "output_type": "stream",
          "name": "stdout",
          "text": [
            "Classification Report\n",
            "                                       precision    recall  f1-score   support\n",
            "\n",
            "                      система впрыска       0.00      0.00      0.00         2\n",
            "                    топливная система       0.00      0.00      0.00         1\n",
            "                    система зажигания       0.00      0.00      0.00         2\n",
            "                       система смазки       0.00      0.00      0.00         4\n",
            "         кривошипно-шатунный механизм       0.00      0.00      0.00         4\n",
            "                   система охлаждения       0.33      0.22      0.27         9\n",
            "                    выпускная система       0.00      0.00      0.00         1\n",
            "                            сцепление       0.00      0.00      0.00         1\n",
            "                      коробка передач       0.00      0.00      0.00         3\n",
            "       газораспределительный механизм       0.00      0.00      0.00         0\n",
            "                             подвеска       0.14      0.12      0.13         8\n",
            "                   рулевое управление       0.00      0.00      0.00         3\n",
            "                    тормозная система       0.00      0.00      0.00         4\n",
            "                  электрооборудование       0.16      0.13      0.14        23\n",
            "системы отопления и кондиционирования       0.00      0.00      0.00         1\n",
            "            неисправность отсутствует       0.63      0.68      0.65       105\n",
            "\n",
            "                             accuracy                           0.45       171\n",
            "                            macro avg       0.08      0.07      0.07       171\n",
            "                         weighted avg       0.43      0.45      0.44       171\n",
            "\n"
          ]
        },
        {
          "output_type": "stream",
          "name": "stderr",
          "text": [
            "/usr/local/lib/python3.11/dist-packages/sklearn/linear_model/_sag.py:348: ConvergenceWarning: The max_iter was reached which means the coef_ did not converge\n",
            "  warnings.warn(\n"
          ]
        }
      ]
    },
    {
      "cell_type": "markdown",
      "source": [
        "Имеем (macro-average) для модели:\n",
        "\n",
        "precision: 0.08\n",
        "\n",
        "recall: 0.07\n",
        "\n",
        "f1-score: 0.07"
      ],
      "metadata": {
        "id": "1M25p3JASuwi"
      }
    },
    {
      "cell_type": "markdown",
      "source": [
        "# CatBoost"
      ],
      "metadata": {
        "id": "cv5Vw45vWjge"
      }
    },
    {
      "cell_type": "code",
      "source": [
        "!pip install catboost"
      ],
      "metadata": {
        "colab": {
          "base_uri": "https://localhost:8080/"
        },
        "id": "6KkIITVibVgn",
        "outputId": "41cc59bd-3f52-43cd-9f54-309679a4bf7a"
      },
      "execution_count": null,
      "outputs": [
        {
          "output_type": "stream",
          "name": "stdout",
          "text": [
            "Collecting catboost\n",
            "  Downloading catboost-1.2.7-cp311-cp311-manylinux2014_x86_64.whl.metadata (1.2 kB)\n",
            "Requirement already satisfied: graphviz in /usr/local/lib/python3.11/dist-packages (from catboost) (0.20.3)\n",
            "Requirement already satisfied: matplotlib in /usr/local/lib/python3.11/dist-packages (from catboost) (3.10.0)\n",
            "Collecting numpy<2.0,>=1.16.0 (from catboost)\n",
            "  Downloading numpy-1.26.4-cp311-cp311-manylinux_2_17_x86_64.manylinux2014_x86_64.whl.metadata (61 kB)\n",
            "\u001b[2K     \u001b[90m━━━━━━━━━━━━━━━━━━━━━━━━━━━━━━━━━━━━━━━━\u001b[0m \u001b[32m61.0/61.0 kB\u001b[0m \u001b[31m2.8 MB/s\u001b[0m eta \u001b[36m0:00:00\u001b[0m\n",
            "\u001b[?25hRequirement already satisfied: pandas>=0.24 in /usr/local/lib/python3.11/dist-packages (from catboost) (2.2.2)\n",
            "Requirement already satisfied: scipy in /usr/local/lib/python3.11/dist-packages (from catboost) (1.14.1)\n",
            "Requirement already satisfied: plotly in /usr/local/lib/python3.11/dist-packages (from catboost) (5.24.1)\n",
            "Requirement already satisfied: six in /usr/local/lib/python3.11/dist-packages (from catboost) (1.17.0)\n",
            "Requirement already satisfied: python-dateutil>=2.8.2 in /usr/local/lib/python3.11/dist-packages (from pandas>=0.24->catboost) (2.8.2)\n",
            "Requirement already satisfied: pytz>=2020.1 in /usr/local/lib/python3.11/dist-packages (from pandas>=0.24->catboost) (2025.1)\n",
            "Requirement already satisfied: tzdata>=2022.7 in /usr/local/lib/python3.11/dist-packages (from pandas>=0.24->catboost) (2025.1)\n",
            "Requirement already satisfied: contourpy>=1.0.1 in /usr/local/lib/python3.11/dist-packages (from matplotlib->catboost) (1.3.1)\n",
            "Requirement already satisfied: cycler>=0.10 in /usr/local/lib/python3.11/dist-packages (from matplotlib->catboost) (0.12.1)\n",
            "Requirement already satisfied: fonttools>=4.22.0 in /usr/local/lib/python3.11/dist-packages (from matplotlib->catboost) (4.56.0)\n",
            "Requirement already satisfied: kiwisolver>=1.3.1 in /usr/local/lib/python3.11/dist-packages (from matplotlib->catboost) (1.4.8)\n",
            "Requirement already satisfied: packaging>=20.0 in /usr/local/lib/python3.11/dist-packages (from matplotlib->catboost) (24.2)\n",
            "Requirement already satisfied: pillow>=8 in /usr/local/lib/python3.11/dist-packages (from matplotlib->catboost) (11.1.0)\n",
            "Requirement already satisfied: pyparsing>=2.3.1 in /usr/local/lib/python3.11/dist-packages (from matplotlib->catboost) (3.2.1)\n",
            "Requirement already satisfied: tenacity>=6.2.0 in /usr/local/lib/python3.11/dist-packages (from plotly->catboost) (9.0.0)\n",
            "Downloading catboost-1.2.7-cp311-cp311-manylinux2014_x86_64.whl (98.7 MB)\n",
            "\u001b[2K   \u001b[90m━━━━━━━━━━━━━━━━━━━━━━━━━━━━━━━━━━━━━━━━\u001b[0m \u001b[32m98.7/98.7 MB\u001b[0m \u001b[31m9.8 MB/s\u001b[0m eta \u001b[36m0:00:00\u001b[0m\n",
            "\u001b[?25hDownloading numpy-1.26.4-cp311-cp311-manylinux_2_17_x86_64.manylinux2014_x86_64.whl (18.3 MB)\n",
            "\u001b[2K   \u001b[90m━━━━━━━━━━━━━━━━━━━━━━━━━━━━━━━━━━━━━━━━\u001b[0m \u001b[32m18.3/18.3 MB\u001b[0m \u001b[31m99.5 MB/s\u001b[0m eta \u001b[36m0:00:00\u001b[0m\n",
            "\u001b[?25hInstalling collected packages: numpy, catboost\n",
            "  Attempting uninstall: numpy\n",
            "    Found existing installation: numpy 2.0.2\n",
            "    Uninstalling numpy-2.0.2:\n",
            "      Successfully uninstalled numpy-2.0.2\n",
            "Successfully installed catboost-1.2.7 numpy-1.26.4\n"
          ]
        }
      ]
    },
    {
      "cell_type": "code",
      "source": [
        "!pip uninstall -y numpy catboost\n",
        "!pip install numpy==1.23.5 catboost"
      ],
      "metadata": {
        "colab": {
          "base_uri": "https://localhost:8080/",
          "height": 894
        },
        "id": "RyG_uwaUbviA",
        "outputId": "e3fcfd64-2363-4f69-ead5-e285ff9597d1"
      },
      "execution_count": null,
      "outputs": [
        {
          "output_type": "stream",
          "name": "stdout",
          "text": [
            "Found existing installation: numpy 1.23.5\n",
            "Uninstalling numpy-1.23.5:\n",
            "  Successfully uninstalled numpy-1.23.5\n",
            "Found existing installation: catboost 1.2.7\n",
            "Uninstalling catboost-1.2.7:\n",
            "  Successfully uninstalled catboost-1.2.7\n",
            "Collecting numpy==1.23.5\n",
            "  Using cached numpy-1.23.5-cp311-cp311-manylinux_2_17_x86_64.manylinux2014_x86_64.whl.metadata (2.3 kB)\n",
            "Collecting catboost\n",
            "  Using cached catboost-1.2.7-cp311-cp311-manylinux2014_x86_64.whl.metadata (1.2 kB)\n",
            "Requirement already satisfied: graphviz in /usr/local/lib/python3.11/dist-packages (from catboost) (0.20.3)\n",
            "Requirement already satisfied: matplotlib in /usr/local/lib/python3.11/dist-packages (from catboost) (3.10.0)\n",
            "Requirement already satisfied: pandas>=0.24 in /usr/local/lib/python3.11/dist-packages (from catboost) (2.2.2)\n",
            "Requirement already satisfied: scipy in /usr/local/lib/python3.11/dist-packages (from catboost) (1.14.1)\n",
            "Requirement already satisfied: plotly in /usr/local/lib/python3.11/dist-packages (from catboost) (5.24.1)\n",
            "Requirement already satisfied: six in /usr/local/lib/python3.11/dist-packages (from catboost) (1.17.0)\n",
            "Requirement already satisfied: python-dateutil>=2.8.2 in /usr/local/lib/python3.11/dist-packages (from pandas>=0.24->catboost) (2.8.2)\n",
            "Requirement already satisfied: pytz>=2020.1 in /usr/local/lib/python3.11/dist-packages (from pandas>=0.24->catboost) (2025.1)\n",
            "Requirement already satisfied: tzdata>=2022.7 in /usr/local/lib/python3.11/dist-packages (from pandas>=0.24->catboost) (2025.1)\n",
            "Requirement already satisfied: contourpy>=1.0.1 in /usr/local/lib/python3.11/dist-packages (from matplotlib->catboost) (1.3.1)\n",
            "Requirement already satisfied: cycler>=0.10 in /usr/local/lib/python3.11/dist-packages (from matplotlib->catboost) (0.12.1)\n",
            "Requirement already satisfied: fonttools>=4.22.0 in /usr/local/lib/python3.11/dist-packages (from matplotlib->catboost) (4.56.0)\n",
            "Requirement already satisfied: kiwisolver>=1.3.1 in /usr/local/lib/python3.11/dist-packages (from matplotlib->catboost) (1.4.8)\n",
            "Requirement already satisfied: packaging>=20.0 in /usr/local/lib/python3.11/dist-packages (from matplotlib->catboost) (24.2)\n",
            "Requirement already satisfied: pillow>=8 in /usr/local/lib/python3.11/dist-packages (from matplotlib->catboost) (11.1.0)\n",
            "Requirement already satisfied: pyparsing>=2.3.1 in /usr/local/lib/python3.11/dist-packages (from matplotlib->catboost) (3.2.1)\n",
            "Requirement already satisfied: tenacity>=6.2.0 in /usr/local/lib/python3.11/dist-packages (from plotly->catboost) (9.0.0)\n",
            "Using cached numpy-1.23.5-cp311-cp311-manylinux_2_17_x86_64.manylinux2014_x86_64.whl (17.1 MB)\n",
            "Using cached catboost-1.2.7-cp311-cp311-manylinux2014_x86_64.whl (98.7 MB)\n",
            "Installing collected packages: numpy, catboost\n",
            "\u001b[31mERROR: pip's dependency resolver does not currently take into account all the packages that are installed. This behaviour is the source of the following dependency conflicts.\n",
            "chex 0.1.89 requires numpy>=1.24.1, but you have numpy 1.23.5 which is incompatible.\n",
            "pymc 5.21.1 requires numpy>=1.25.0, but you have numpy 1.23.5 which is incompatible.\n",
            "tensorflow 2.18.0 requires numpy<2.1.0,>=1.26.0, but you have numpy 1.23.5 which is incompatible.\n",
            "xarray 2025.1.2 requires numpy>=1.24, but you have numpy 1.23.5 which is incompatible.\n",
            "blosc2 3.2.0 requires numpy>=1.26, but you have numpy 1.23.5 which is incompatible.\n",
            "albucore 0.0.23 requires numpy>=1.24.4, but you have numpy 1.23.5 which is incompatible.\n",
            "jax 0.5.2 requires numpy>=1.25, but you have numpy 1.23.5 which is incompatible.\n",
            "treescope 0.1.9 requires numpy>=1.25.2, but you have numpy 1.23.5 which is incompatible.\n",
            "jaxlib 0.5.1 requires numpy>=1.25, but you have numpy 1.23.5 which is incompatible.\n",
            "imbalanced-learn 0.13.0 requires numpy<3,>=1.24.3, but you have numpy 1.23.5 which is incompatible.\n",
            "scikit-image 0.25.2 requires numpy>=1.24, but you have numpy 1.23.5 which is incompatible.\n",
            "bigframes 1.41.0 requires numpy>=1.24.0, but you have numpy 1.23.5 which is incompatible.\n",
            "albumentations 2.0.5 requires numpy>=1.24.4, but you have numpy 1.23.5 which is incompatible.\u001b[0m\u001b[31m\n",
            "\u001b[0mSuccessfully installed catboost-1.2.7 numpy-1.23.5\n"
          ]
        },
        {
          "output_type": "display_data",
          "data": {
            "application/vnd.colab-display-data+json": {
              "pip_warning": {
                "packages": [
                  "numpy"
                ]
              },
              "id": "37b779fe40854b5580ccba63e1e66c74"
            }
          },
          "metadata": {}
        }
      ]
    },
    {
      "cell_type": "code",
      "source": [
        "from catboost import CatBoostClassifier, Pool\n",
        "from sklearn.metrics import classification_report, f1_score\n",
        "from sklearn.utils.class_weight import compute_class_weight\n",
        "\n",
        "\n",
        "classes = np.unique(y_train)\n",
        "class_weights = compute_class_weight(\n",
        "    class_weight='balanced',\n",
        "    classes=classes,\n",
        "    y=y_train\n",
        ")\n",
        "\n",
        "weight_dict = dict(zip(classes, class_weights))\n",
        "\n",
        "\n",
        "model = CatBoostClassifier(\n",
        "    iterations=1000,\n",
        "    learning_rate=0.05,\n",
        "    depth=6,\n",
        "    loss_function='MultiClass',\n",
        "    eval_metric='TotalF1',\n",
        "    class_weights=weight_dict,\n",
        "    task_type='GPU',\n",
        "    random_seed=42,\n",
        "    verbose=100,\n",
        "    early_stopping_rounds=50\n",
        ")\n",
        "\n",
        "\n",
        "model.fit(\n",
        "    X_train, y_train\n",
        ")\n",
        "\n",
        "\n",
        "y_pred = model.predict(X_test)\n",
        "print(\"Classification Report\")\n",
        "labels = ['система впрыска', 'топливная система', 'система зажигания', 'система смазки',\n",
        "              'кривошипно-шатунный механизм', 'система охлаждения', 'выпускная система', 'сцепление',\n",
        "              'коробка передач', 'газораспределительный механизм', 'подвеска', 'рулевое управление',\n",
        "              'тормозная система', 'электрооборудование', 'системы отопления и кондиционирования',\n",
        "              'неисправность отсутствует']\n",
        "print(classification_report(y_test, y_pred, labels=labels, zero_division=0))"
      ],
      "metadata": {
        "colab": {
          "base_uri": "https://localhost:8080/"
        },
        "id": "QcYSY3XuUhmV",
        "outputId": "dcbca576-fe88-4e4e-d59a-5137b25627a3"
      },
      "execution_count": null,
      "outputs": [
        {
          "output_type": "stream",
          "name": "stdout",
          "text": [
            "0:\tlearn: 0.4045698\ttotal: 87.9ms\tremaining: 1m 27s\n",
            "100:\tlearn: 0.9724401\ttotal: 1.87s\tremaining: 16.6s\n",
            "200:\tlearn: 0.9889901\ttotal: 3.32s\tremaining: 13.2s\n",
            "300:\tlearn: 0.9937363\ttotal: 4.79s\tremaining: 11.1s\n",
            "400:\tlearn: 0.9954800\ttotal: 6.31s\tremaining: 9.42s\n",
            "500:\tlearn: 0.9960492\ttotal: 7.83s\tremaining: 7.8s\n",
            "600:\tlearn: 0.9966230\ttotal: 9.33s\tremaining: 6.19s\n",
            "700:\tlearn: 0.9971891\ttotal: 11.9s\tremaining: 5.07s\n",
            "800:\tlearn: 0.9971891\ttotal: 13.9s\tremaining: 3.46s\n",
            "900:\tlearn: 0.9977550\ttotal: 15.4s\tremaining: 1.69s\n",
            "999:\tlearn: 0.9977550\ttotal: 16.9s\tremaining: 0us\n",
            "Classification Report\n",
            "                                       precision    recall  f1-score   support\n",
            "\n",
            "                      система впрыска       0.00      0.00      0.00         2\n",
            "                    топливная система       0.00      0.00      0.00         1\n",
            "                    система зажигания       0.00      0.00      0.00         2\n",
            "                       система смазки       0.00      0.00      0.00         4\n",
            "         кривошипно-шатунный механизм       0.25      0.25      0.25         4\n",
            "                   система охлаждения       0.00      0.00      0.00         9\n",
            "                    выпускная система       0.00      0.00      0.00         1\n",
            "                            сцепление       0.00      0.00      0.00         1\n",
            "                      коробка передач       0.00      0.00      0.00         3\n",
            "       газораспределительный механизм       0.00      0.00      0.00         0\n",
            "                             подвеска       0.00      0.00      0.00         8\n",
            "                   рулевое управление       0.00      0.00      0.00         3\n",
            "                    тормозная система       0.00      0.00      0.00         4\n",
            "                  электрооборудование       0.20      0.09      0.12        23\n",
            "системы отопления и кондиционирования       0.00      0.00      0.00         1\n",
            "            неисправность отсутствует       0.62      0.77      0.69       105\n",
            "\n",
            "                             accuracy                           0.49       171\n",
            "                            macro avg       0.07      0.07      0.07       171\n",
            "                         weighted avg       0.41      0.49      0.44       171\n",
            "\n"
          ]
        }
      ]
    },
    {
      "cell_type": "markdown",
      "source": [
        "попробуем подобрать гиперпараметры"
      ],
      "metadata": {
        "id": "jVjnQirwdELp"
      }
    },
    {
      "cell_type": "code",
      "source": [
        "!pip install optuna"
      ],
      "metadata": {
        "colab": {
          "base_uri": "https://localhost:8080/"
        },
        "id": "cJ_3YbtmeC9J",
        "outputId": "321140cf-904c-4f3b-c5d4-6fa4ed793e65"
      },
      "execution_count": null,
      "outputs": [
        {
          "output_type": "stream",
          "name": "stdout",
          "text": [
            "Collecting optuna\n",
            "  Downloading optuna-4.2.1-py3-none-any.whl.metadata (17 kB)\n",
            "Collecting alembic>=1.5.0 (from optuna)\n",
            "  Downloading alembic-1.15.2-py3-none-any.whl.metadata (7.3 kB)\n",
            "Collecting colorlog (from optuna)\n",
            "  Downloading colorlog-6.9.0-py3-none-any.whl.metadata (10 kB)\n",
            "Requirement already satisfied: numpy in /usr/local/lib/python3.11/dist-packages (from optuna) (1.23.5)\n",
            "Requirement already satisfied: packaging>=20.0 in /usr/local/lib/python3.11/dist-packages (from optuna) (24.2)\n",
            "Requirement already satisfied: sqlalchemy>=1.4.2 in /usr/local/lib/python3.11/dist-packages (from optuna) (2.0.39)\n",
            "Requirement already satisfied: tqdm in /usr/local/lib/python3.11/dist-packages (from optuna) (4.67.1)\n",
            "Requirement already satisfied: PyYAML in /usr/local/lib/python3.11/dist-packages (from optuna) (6.0.2)\n",
            "Requirement already satisfied: Mako in /usr/lib/python3/dist-packages (from alembic>=1.5.0->optuna) (1.1.3)\n",
            "Requirement already satisfied: typing-extensions>=4.12 in /usr/local/lib/python3.11/dist-packages (from alembic>=1.5.0->optuna) (4.12.2)\n",
            "Requirement already satisfied: greenlet!=0.4.17 in /usr/local/lib/python3.11/dist-packages (from sqlalchemy>=1.4.2->optuna) (3.1.1)\n",
            "Downloading optuna-4.2.1-py3-none-any.whl (383 kB)\n",
            "\u001b[2K   \u001b[90m━━━━━━━━━━━━━━━━━━━━━━━━━━━━━━━━━━━━━━━━\u001b[0m \u001b[32m383.6/383.6 kB\u001b[0m \u001b[31m22.8 MB/s\u001b[0m eta \u001b[36m0:00:00\u001b[0m\n",
            "\u001b[?25hDownloading alembic-1.15.2-py3-none-any.whl (231 kB)\n",
            "\u001b[2K   \u001b[90m━━━━━━━━━━━━━━━━━━━━━━━━━━━━━━━━━━━━━━━━\u001b[0m \u001b[32m231.9/231.9 kB\u001b[0m \u001b[31m17.4 MB/s\u001b[0m eta \u001b[36m0:00:00\u001b[0m\n",
            "\u001b[?25hDownloading colorlog-6.9.0-py3-none-any.whl (11 kB)\n",
            "Installing collected packages: colorlog, alembic, optuna\n",
            "Successfully installed alembic-1.15.2 colorlog-6.9.0 optuna-4.2.1\n"
          ]
        }
      ]
    },
    {
      "cell_type": "code",
      "source": [
        "import optuna\n",
        "\n",
        "def objective(trial):\n",
        "    params = {\n",
        "        'iterations': trial.suggest_int('iterations', 500, 1500),\n",
        "        'learning_rate': trial.suggest_float('learning_rate', 0.01, 0.3),\n",
        "        'depth': trial.suggest_int('depth', 4, 10),\n",
        "        'l2_leaf_reg': trial.suggest_float('l2_leaf_reg', 1, 10),\n",
        "        'bagging_temperature': trial.suggest_float('bagging_temperature', 0, 1)\n",
        "    }\n",
        "\n",
        "    model = CatBoostClassifier(\n",
        "        **params,\n",
        "        loss_function='MultiClass',\n",
        "        eval_metric='TotalF1',\n",
        "        task_type='GPU',\n",
        "        random_seed=42,\n",
        "        early_stopping_rounds=50,\n",
        "        verbose=False\n",
        "    )\n",
        "\n",
        "    model.fit(X_train, y_train)\n",
        "    preds = model.predict(X_test)\n",
        "    return f1_score(y_test, preds, average='macro')\n",
        "\n",
        "study = optuna.create_study(direction='maximize')\n",
        "study.optimize(objective, n_trials=30)\n",
        "best_params = study.best_params"
      ],
      "metadata": {
        "colab": {
          "base_uri": "https://localhost:8080/"
        },
        "id": "dm7T9s1VdH92",
        "outputId": "50321e1c-2544-478a-c43f-0f6ac6513e5d"
      },
      "execution_count": null,
      "outputs": [
        {
          "output_type": "stream",
          "name": "stderr",
          "text": [
            "[I 2025-03-31 09:11:37,982] A new study created in memory with name: no-name-f097addb-a8dd-4cd5-87a7-2ff986933cc8\n",
            "[I 2025-03-31 09:11:50,251] Trial 0 finished with value: 0.06809248272662907 and parameters: {'iterations': 1196, 'learning_rate': 0.08061431387337119, 'depth': 4, 'l2_leaf_reg': 1.312332035657846, 'bagging_temperature': 0.20969050786821208}. Best is trial 0 with value: 0.06809248272662907.\n",
            "[I 2025-03-31 09:12:41,738] Trial 1 finished with value: 0.07049782576098365 and parameters: {'iterations': 1299, 'learning_rate': 0.2933253941902055, 'depth': 8, 'l2_leaf_reg': 7.916699447480895, 'bagging_temperature': 0.5277602548693745}. Best is trial 1 with value: 0.07049782576098365.\n",
            "[I 2025-03-31 09:12:58,066] Trial 2 finished with value: 0.08214330808080807 and parameters: {'iterations': 1285, 'learning_rate': 0.022858369363265418, 'depth': 5, 'l2_leaf_reg': 1.9013582147007333, 'bagging_temperature': 0.7898662925842633}. Best is trial 2 with value: 0.08214330808080807.\n",
            "[I 2025-03-31 09:13:05,463] Trial 3 finished with value: 0.06904632855852368 and parameters: {'iterations': 608, 'learning_rate': 0.25521074117868503, 'depth': 4, 'l2_leaf_reg': 1.9544251861677728, 'bagging_temperature': 0.3638191785486795}. Best is trial 2 with value: 0.08214330808080807.\n",
            "[I 2025-03-31 09:13:17,716] Trial 4 finished with value: 0.07359999999999998 and parameters: {'iterations': 891, 'learning_rate': 0.27431552307534857, 'depth': 5, 'l2_leaf_reg': 6.060035290689677, 'bagging_temperature': 0.7743380388295269}. Best is trial 2 with value: 0.08214330808080807.\n",
            "[I 2025-03-31 09:13:31,704] Trial 5 finished with value: 0.07375661375661376 and parameters: {'iterations': 761, 'learning_rate': 0.12006677264328708, 'depth': 6, 'l2_leaf_reg': 3.7194703187914664, 'bagging_temperature': 0.7875114700753854}. Best is trial 2 with value: 0.08214330808080807.\n",
            "[I 2025-03-31 09:13:44,846] Trial 6 finished with value: 0.07469952124276007 and parameters: {'iterations': 982, 'learning_rate': 0.20150446299288924, 'depth': 5, 'l2_leaf_reg': 3.206057560446226, 'bagging_temperature': 0.8181898819640914}. Best is trial 2 with value: 0.08214330808080807.\n",
            "[I 2025-03-31 09:14:48,745] Trial 7 finished with value: 0.07188283901431312 and parameters: {'iterations': 590, 'learning_rate': 0.13552919211233863, 'depth': 10, 'l2_leaf_reg': 3.349440360331223, 'bagging_temperature': 0.0631661713438395}. Best is trial 2 with value: 0.08214330808080807.\n",
            "[I 2025-03-31 09:15:54,947] Trial 8 finished with value: 0.07048633999853512 and parameters: {'iterations': 1020, 'learning_rate': 0.2921406132787408, 'depth': 9, 'l2_leaf_reg': 3.6605560557499004, 'bagging_temperature': 0.22607033041748203}. Best is trial 2 with value: 0.08214330808080807.\n",
            "[I 2025-03-31 09:16:08,732] Trial 9 finished with value: 0.073 and parameters: {'iterations': 700, 'learning_rate': 0.20666854902935958, 'depth': 6, 'l2_leaf_reg': 3.2035956111399835, 'bagging_temperature': 0.613121973020463}. Best is trial 2 with value: 0.08214330808080807.\n",
            "[I 2025-03-31 09:16:46,823] Trial 10 finished with value: 0.05513762790027381 and parameters: {'iterations': 1477, 'learning_rate': 0.018572468813968672, 'depth': 7, 'l2_leaf_reg': 9.938440779448275, 'bagging_temperature': 0.9859562085146929}. Best is trial 2 with value: 0.08214330808080807.\n",
            "[I 2025-03-31 09:17:01,313] Trial 11 finished with value: 0.07690718607053268 and parameters: {'iterations': 1098, 'learning_rate': 0.1982636754946911, 'depth': 5, 'l2_leaf_reg': 5.423097218709472, 'bagging_temperature': 0.9708261190970835}. Best is trial 2 with value: 0.08214330808080807.\n",
            "[I 2025-03-31 09:17:22,697] Trial 12 finished with value: 0.0552389705882353 and parameters: {'iterations': 1193, 'learning_rate': 0.036324521113992335, 'depth': 6, 'l2_leaf_reg': 5.897001431506846, 'bagging_temperature': 0.9991260110564062}. Best is trial 2 with value: 0.08214330808080807.\n",
            "[I 2025-03-31 09:17:40,940] Trial 13 finished with value: 0.07728692547969657 and parameters: {'iterations': 1399, 'learning_rate': 0.1902312000601677, 'depth': 5, 'l2_leaf_reg': 7.551468181481198, 'bagging_temperature': 0.668303927115754}. Best is trial 2 with value: 0.08214330808080807.\n",
            "[I 2025-03-31 09:18:19,916] Trial 14 finished with value: 0.07821350762527234 and parameters: {'iterations': 1499, 'learning_rate': 0.16334464557121867, 'depth': 7, 'l2_leaf_reg': 8.065948212083796, 'bagging_temperature': 0.6448360856480249}. Best is trial 2 with value: 0.08214330808080807.\n",
            "[I 2025-03-31 09:19:19,213] Trial 15 finished with value: 0.0542971542971543 and parameters: {'iterations': 1500, 'learning_rate': 0.08425289785320816, 'depth': 8, 'l2_leaf_reg': 9.364409088327102, 'bagging_temperature': 0.42211911629974463}. Best is trial 2 with value: 0.08214330808080807.\n",
            "[I 2025-03-31 09:19:53,888] Trial 16 finished with value: 0.08134453781512606 and parameters: {'iterations': 1327, 'learning_rate': 0.07005037384415025, 'depth': 7, 'l2_leaf_reg': 7.796903310253931, 'bagging_temperature': 0.6556393993195464}. Best is trial 2 with value: 0.08214330808080807.\n",
            "[I 2025-03-31 09:20:43,241] Trial 17 finished with value: 0.08116402116402117 and parameters: {'iterations': 1311, 'learning_rate': 0.058618647694473516, 'depth': 8, 'l2_leaf_reg': 4.763350134693571, 'bagging_temperature': 0.8500340440238844}. Best is trial 2 with value: 0.08214330808080807.\n",
            "[I 2025-03-31 09:22:56,204] Trial 18 finished with value: 0.0543382077240345 and parameters: {'iterations': 1296, 'learning_rate': 0.10021045757541706, 'depth': 10, 'l2_leaf_reg': 7.124796651065958, 'bagging_temperature': 0.5276448416085117}. Best is trial 2 with value: 0.08214330808080807.\n",
            "[I 2025-03-31 09:23:26,498] Trial 19 finished with value: 0.0549526270456503 and parameters: {'iterations': 1152, 'learning_rate': 0.015521223881456164, 'depth': 7, 'l2_leaf_reg': 8.77227595546058, 'bagging_temperature': 0.7145761293022314}. Best is trial 2 with value: 0.08214330808080807.\n",
            "[I 2025-03-31 09:23:51,098] Trial 20 finished with value: 0.07674509065813415 and parameters: {'iterations': 1371, 'learning_rate': 0.05667054066713993, 'depth': 6, 'l2_leaf_reg': 6.648244824266248, 'bagging_temperature': 0.87713346285435}. Best is trial 2 with value: 0.08214330808080807.\n",
            "[I 2025-03-31 09:24:39,110] Trial 21 finished with value: 0.08043472043472044 and parameters: {'iterations': 1273, 'learning_rate': 0.05641146191183122, 'depth': 8, 'l2_leaf_reg': 4.861170311451325, 'bagging_temperature': 0.8844249628529559}. Best is trial 2 with value: 0.08214330808080807.\n",
            "[I 2025-03-31 09:26:00,805] Trial 22 finished with value: 0.07621808143547273 and parameters: {'iterations': 1376, 'learning_rate': 0.05288925978836065, 'depth': 9, 'l2_leaf_reg': 4.7486905745047, 'bagging_temperature': 0.7202729560223489}. Best is trial 2 with value: 0.08214330808080807.\n",
            "[I 2025-03-31 09:27:17,252] Trial 23 finished with value: 0.07426379139526551 and parameters: {'iterations': 1259, 'learning_rate': 0.08124719532466533, 'depth': 9, 'l2_leaf_reg': 1.9873831342295483, 'bagging_temperature': 0.8788660534366971}. Best is trial 2 with value: 0.08214330808080807.\n",
            "[I 2025-03-31 09:27:57,880] Trial 24 finished with value: 0.07103206222728135 and parameters: {'iterations': 1074, 'learning_rate': 0.042075272081913695, 'depth': 8, 'l2_leaf_reg': 4.365203935631749, 'bagging_temperature': 0.5644741987322971}. Best is trial 2 with value: 0.08214330808080807.\n",
            "[I 2025-03-31 09:28:33,825] Trial 25 finished with value: 0.07469952124276007 and parameters: {'iterations': 1402, 'learning_rate': 0.10929382527303114, 'depth': 7, 'l2_leaf_reg': 2.39010648277536, 'bagging_temperature': 0.7234332454037907}. Best is trial 2 with value: 0.08214330808080807.\n",
            "[I 2025-03-31 09:29:33,410] Trial 26 finished with value: 0.0549526270456503 and parameters: {'iterations': 941, 'learning_rate': 0.013446572195088366, 'depth': 9, 'l2_leaf_reg': 6.636312069419388, 'bagging_temperature': 0.43853807795146477}. Best is trial 2 with value: 0.08214330808080807.\n",
            "[I 2025-03-31 09:29:44,088] Trial 27 finished with value: 0.07601577481095553 and parameters: {'iterations': 1217, 'learning_rate': 0.07458284106561754, 'depth': 4, 'l2_leaf_reg': 1.0864694862589515, 'bagging_temperature': 0.8350140917312533}. Best is trial 2 with value: 0.08214330808080807.\n",
            "[I 2025-03-31 09:30:27,186] Trial 28 finished with value: 0.07392169312169311 and parameters: {'iterations': 1108, 'learning_rate': 0.1566669772171001, 'depth': 8, 'l2_leaf_reg': 8.611150176007948, 'bagging_temperature': 0.6062940549944018}. Best is trial 2 with value: 0.08214330808080807.\n",
            "[I 2025-03-31 09:30:40,261] Trial 29 finished with value: 0.0826641414141414 and parameters: {'iterations': 1326, 'learning_rate': 0.03518433457177666, 'depth': 4, 'l2_leaf_reg': 2.4352360288196504, 'bagging_temperature': 0.9288549276149238}. Best is trial 29 with value: 0.0826641414141414.\n"
          ]
        },
        {
          "output_type": "stream",
          "name": "stdout",
          "text": [
            "Classification Report\n",
            "                                       precision    recall  f1-score   support\n",
            "\n",
            "                      система впрыска       0.00      0.00      0.00         2\n",
            "                    топливная система       0.00      0.00      0.00         1\n",
            "                    система зажигания       0.00      0.00      0.00         2\n",
            "                       система смазки       0.00      0.00      0.00         4\n",
            "         кривошипно-шатунный механизм       0.25      0.25      0.25         4\n",
            "                   система охлаждения       0.00      0.00      0.00         9\n",
            "                    выпускная система       0.00      0.00      0.00         1\n",
            "                            сцепление       0.00      0.00      0.00         1\n",
            "                      коробка передач       0.00      0.00      0.00         3\n",
            "       газораспределительный механизм       0.00      0.00      0.00         0\n",
            "                             подвеска       0.00      0.00      0.00         8\n",
            "                   рулевое управление       0.00      0.00      0.00         3\n",
            "                    тормозная система       0.00      0.00      0.00         4\n",
            "                  электрооборудование       0.20      0.09      0.12        23\n",
            "системы отопления и кондиционирования       0.00      0.00      0.00         1\n",
            "            неисправность отсутствует       0.62      0.77      0.69       105\n",
            "\n",
            "                             accuracy                           0.49       171\n",
            "                            macro avg       0.07      0.07      0.07       171\n",
            "                         weighted avg       0.41      0.49      0.44       171\n",
            "\n"
          ]
        }
      ]
    },
    {
      "cell_type": "code",
      "source": [
        "best_model = CatBoostClassifier(\n",
        "    **best_params,\n",
        "    loss_function='MultiClass',\n",
        "    eval_metric='TotalF1',\n",
        "    task_type='GPU',\n",
        "    random_seed=42,\n",
        "    verbose=100\n",
        ")\n",
        "\n",
        "best_model.fit(\n",
        "    X_train, y_train,\n",
        ")\n",
        "\n",
        "y_pred = best_model.predict(X_test)\n",
        "print(\"Classification Report\")\n",
        "labels = ['система впрыска', 'топливная система', 'система зажигания', 'система смазки',\n",
        "              'кривошипно-шатунный механизм', 'система охлаждения', 'выпускная система', 'сцепление',\n",
        "              'коробка передач', 'газораспределительный механизм', 'подвеска', 'рулевое управление',\n",
        "              'тормозная система', 'электрооборудование', 'системы отопления и кондиционирования',\n",
        "              'неисправность отсутствует']\n",
        "print(classification_report(y_test, y_pred, labels=labels, zero_division=0))"
      ],
      "metadata": {
        "colab": {
          "base_uri": "https://localhost:8080/"
        },
        "id": "xsxkQNKpjWGW",
        "outputId": "4c900f15-ce5f-4e74-9109-d39e6ec3ba59"
      },
      "execution_count": null,
      "outputs": [
        {
          "output_type": "stream",
          "name": "stdout",
          "text": [
            "0:\tlearn: 0.6581129\ttotal: 24.3ms\tremaining: 32.2s\n",
            "100:\tlearn: 0.6318040\ttotal: 1.01s\tremaining: 12.3s\n",
            "200:\tlearn: 0.7055463\ttotal: 1.77s\tremaining: 9.9s\n",
            "300:\tlearn: 0.7561394\ttotal: 2.54s\tremaining: 8.64s\n",
            "400:\tlearn: 0.8250006\ttotal: 3.31s\tremaining: 7.65s\n",
            "500:\tlearn: 0.8700578\ttotal: 4.09s\tremaining: 6.73s\n",
            "600:\tlearn: 0.8901619\ttotal: 4.84s\tremaining: 5.84s\n",
            "700:\tlearn: 0.9529402\ttotal: 5.63s\tremaining: 5.02s\n",
            "800:\tlearn: 0.9761676\ttotal: 6.42s\tremaining: 4.21s\n",
            "900:\tlearn: 1.0000000\ttotal: 7.33s\tremaining: 3.46s\n",
            "1000:\tlearn: 1.0000000\ttotal: 9.78s\tremaining: 3.17s\n",
            "1100:\tlearn: 1.0000000\ttotal: 10.6s\tremaining: 2.16s\n",
            "1200:\tlearn: 1.0000000\ttotal: 11.4s\tremaining: 1.18s\n",
            "1300:\tlearn: 1.0000000\ttotal: 12.2s\tremaining: 234ms\n",
            "1325:\tlearn: 1.0000000\ttotal: 12.3s\tremaining: 0us\n",
            "Classification Report\n",
            "                                       precision    recall  f1-score   support\n",
            "\n",
            "                      система впрыска       0.00      0.00      0.00         2\n",
            "                    топливная система       0.00      0.00      0.00         1\n",
            "                    система зажигания       0.00      0.00      0.00         2\n",
            "                       система смазки       0.00      0.00      0.00         4\n",
            "         кривошипно-шатунный механизм       1.00      0.25      0.40         4\n",
            "                   система охлаждения       0.00      0.00      0.00         9\n",
            "                    выпускная система       0.00      0.00      0.00         1\n",
            "                            сцепление       0.00      0.00      0.00         1\n",
            "                      коробка передач       0.00      0.00      0.00         3\n",
            "       газораспределительный механизм       0.00      0.00      0.00         0\n",
            "                             подвеска       0.00      0.00      0.00         8\n",
            "                   рулевое управление       0.00      0.00      0.00         3\n",
            "                    тормозная система       0.00      0.00      0.00         4\n",
            "                  электрооборудование       0.20      0.09      0.12        23\n",
            "системы отопления и кондиционирования       0.00      0.00      0.00         1\n",
            "            неисправность отсутствует       0.61      0.88      0.72       105\n",
            "\n",
            "                             accuracy                           0.56       171\n",
            "                            macro avg       0.11      0.08      0.08       171\n",
            "                         weighted avg       0.42      0.56      0.47       171\n",
            "\n"
          ]
        }
      ]
    },
    {
      "cell_type": "markdown",
      "source": [
        "Имеем (macro-average) для модели:\n",
        "\n",
        "precision: 0.11\n",
        "\n",
        "recall: 0.08\n",
        "\n",
        "f1-score: 0.08"
      ],
      "metadata": {
        "id": "vuxHGeELj3Fa"
      }
    },
    {
      "cell_type": "markdown",
      "source": [
        "Получилось немного повысить качество"
      ],
      "metadata": {
        "id": "PsX9fMldkCis"
      }
    }
  ]
}